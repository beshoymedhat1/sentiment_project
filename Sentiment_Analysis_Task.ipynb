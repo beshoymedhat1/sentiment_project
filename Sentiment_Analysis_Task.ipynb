{
  "nbformat": 4,
  "nbformat_minor": 0,
  "metadata": {
    "colab": {
      "provenance": [],
      "gpuType": "T4"
    },
    "kernelspec": {
      "name": "python3",
      "display_name": "Python 3"
    },
    "language_info": {
      "name": "python"
    },
    "accelerator": "GPU",
    "widgets": {
      "application/vnd.jupyter.widget-state+json": {
        "3c0fe31533e943b08f9c1b04b142aa5a": {
          "model_module": "@jupyter-widgets/controls",
          "model_name": "HBoxModel",
          "model_module_version": "1.5.0",
          "state": {
            "_dom_classes": [],
            "_model_module": "@jupyter-widgets/controls",
            "_model_module_version": "1.5.0",
            "_model_name": "HBoxModel",
            "_view_count": null,
            "_view_module": "@jupyter-widgets/controls",
            "_view_module_version": "1.5.0",
            "_view_name": "HBoxView",
            "box_style": "",
            "children": [
              "IPY_MODEL_c239e8b16a0a49c0831396636c788288",
              "IPY_MODEL_9221450dd0e74dd1b6452cd883eb6cf5",
              "IPY_MODEL_5e6f559443d34373959134e8c8d953ce"
            ],
            "layout": "IPY_MODEL_f9d9d77e55dd462583896b006e2babae"
          }
        },
        "c239e8b16a0a49c0831396636c788288": {
          "model_module": "@jupyter-widgets/controls",
          "model_name": "HTMLModel",
          "model_module_version": "1.5.0",
          "state": {
            "_dom_classes": [],
            "_model_module": "@jupyter-widgets/controls",
            "_model_module_version": "1.5.0",
            "_model_name": "HTMLModel",
            "_view_count": null,
            "_view_module": "@jupyter-widgets/controls",
            "_view_module_version": "1.5.0",
            "_view_name": "HTMLView",
            "description": "",
            "description_tooltip": null,
            "layout": "IPY_MODEL_353035d6682e4d26914dc048af6a27bb",
            "placeholder": "​",
            "style": "IPY_MODEL_0ec7d2ecf1604d249c8020f6284a78fd",
            "value": "Downloading readme: 100%"
          }
        },
        "9221450dd0e74dd1b6452cd883eb6cf5": {
          "model_module": "@jupyter-widgets/controls",
          "model_name": "FloatProgressModel",
          "model_module_version": "1.5.0",
          "state": {
            "_dom_classes": [],
            "_model_module": "@jupyter-widgets/controls",
            "_model_module_version": "1.5.0",
            "_model_name": "FloatProgressModel",
            "_view_count": null,
            "_view_module": "@jupyter-widgets/controls",
            "_view_module_version": "1.5.0",
            "_view_name": "ProgressView",
            "bar_style": "success",
            "description": "",
            "description_tooltip": null,
            "layout": "IPY_MODEL_2c1b304d3dd2414f98f129c7d40b7299",
            "max": 94,
            "min": 0,
            "orientation": "horizontal",
            "style": "IPY_MODEL_d4e5acae1996413996e163d4b9c01254",
            "value": 94
          }
        },
        "5e6f559443d34373959134e8c8d953ce": {
          "model_module": "@jupyter-widgets/controls",
          "model_name": "HTMLModel",
          "model_module_version": "1.5.0",
          "state": {
            "_dom_classes": [],
            "_model_module": "@jupyter-widgets/controls",
            "_model_module_version": "1.5.0",
            "_model_name": "HTMLModel",
            "_view_count": null,
            "_view_module": "@jupyter-widgets/controls",
            "_view_module_version": "1.5.0",
            "_view_name": "HTMLView",
            "description": "",
            "description_tooltip": null,
            "layout": "IPY_MODEL_9f9591e8316c4fac88e6af25de931cfe",
            "placeholder": "​",
            "style": "IPY_MODEL_12d4a1b4a30b48b7b012ba2a3f68c820",
            "value": " 94.0/94.0 [00:00&lt;00:00, 4.33kB/s]"
          }
        },
        "f9d9d77e55dd462583896b006e2babae": {
          "model_module": "@jupyter-widgets/base",
          "model_name": "LayoutModel",
          "model_module_version": "1.2.0",
          "state": {
            "_model_module": "@jupyter-widgets/base",
            "_model_module_version": "1.2.0",
            "_model_name": "LayoutModel",
            "_view_count": null,
            "_view_module": "@jupyter-widgets/base",
            "_view_module_version": "1.2.0",
            "_view_name": "LayoutView",
            "align_content": null,
            "align_items": null,
            "align_self": null,
            "border": null,
            "bottom": null,
            "display": null,
            "flex": null,
            "flex_flow": null,
            "grid_area": null,
            "grid_auto_columns": null,
            "grid_auto_flow": null,
            "grid_auto_rows": null,
            "grid_column": null,
            "grid_gap": null,
            "grid_row": null,
            "grid_template_areas": null,
            "grid_template_columns": null,
            "grid_template_rows": null,
            "height": null,
            "justify_content": null,
            "justify_items": null,
            "left": null,
            "margin": null,
            "max_height": null,
            "max_width": null,
            "min_height": null,
            "min_width": null,
            "object_fit": null,
            "object_position": null,
            "order": null,
            "overflow": null,
            "overflow_x": null,
            "overflow_y": null,
            "padding": null,
            "right": null,
            "top": null,
            "visibility": null,
            "width": null
          }
        },
        "353035d6682e4d26914dc048af6a27bb": {
          "model_module": "@jupyter-widgets/base",
          "model_name": "LayoutModel",
          "model_module_version": "1.2.0",
          "state": {
            "_model_module": "@jupyter-widgets/base",
            "_model_module_version": "1.2.0",
            "_model_name": "LayoutModel",
            "_view_count": null,
            "_view_module": "@jupyter-widgets/base",
            "_view_module_version": "1.2.0",
            "_view_name": "LayoutView",
            "align_content": null,
            "align_items": null,
            "align_self": null,
            "border": null,
            "bottom": null,
            "display": null,
            "flex": null,
            "flex_flow": null,
            "grid_area": null,
            "grid_auto_columns": null,
            "grid_auto_flow": null,
            "grid_auto_rows": null,
            "grid_column": null,
            "grid_gap": null,
            "grid_row": null,
            "grid_template_areas": null,
            "grid_template_columns": null,
            "grid_template_rows": null,
            "height": null,
            "justify_content": null,
            "justify_items": null,
            "left": null,
            "margin": null,
            "max_height": null,
            "max_width": null,
            "min_height": null,
            "min_width": null,
            "object_fit": null,
            "object_position": null,
            "order": null,
            "overflow": null,
            "overflow_x": null,
            "overflow_y": null,
            "padding": null,
            "right": null,
            "top": null,
            "visibility": null,
            "width": null
          }
        },
        "0ec7d2ecf1604d249c8020f6284a78fd": {
          "model_module": "@jupyter-widgets/controls",
          "model_name": "DescriptionStyleModel",
          "model_module_version": "1.5.0",
          "state": {
            "_model_module": "@jupyter-widgets/controls",
            "_model_module_version": "1.5.0",
            "_model_name": "DescriptionStyleModel",
            "_view_count": null,
            "_view_module": "@jupyter-widgets/base",
            "_view_module_version": "1.2.0",
            "_view_name": "StyleView",
            "description_width": ""
          }
        },
        "2c1b304d3dd2414f98f129c7d40b7299": {
          "model_module": "@jupyter-widgets/base",
          "model_name": "LayoutModel",
          "model_module_version": "1.2.0",
          "state": {
            "_model_module": "@jupyter-widgets/base",
            "_model_module_version": "1.2.0",
            "_model_name": "LayoutModel",
            "_view_count": null,
            "_view_module": "@jupyter-widgets/base",
            "_view_module_version": "1.2.0",
            "_view_name": "LayoutView",
            "align_content": null,
            "align_items": null,
            "align_self": null,
            "border": null,
            "bottom": null,
            "display": null,
            "flex": null,
            "flex_flow": null,
            "grid_area": null,
            "grid_auto_columns": null,
            "grid_auto_flow": null,
            "grid_auto_rows": null,
            "grid_column": null,
            "grid_gap": null,
            "grid_row": null,
            "grid_template_areas": null,
            "grid_template_columns": null,
            "grid_template_rows": null,
            "height": null,
            "justify_content": null,
            "justify_items": null,
            "left": null,
            "margin": null,
            "max_height": null,
            "max_width": null,
            "min_height": null,
            "min_width": null,
            "object_fit": null,
            "object_position": null,
            "order": null,
            "overflow": null,
            "overflow_x": null,
            "overflow_y": null,
            "padding": null,
            "right": null,
            "top": null,
            "visibility": null,
            "width": null
          }
        },
        "d4e5acae1996413996e163d4b9c01254": {
          "model_module": "@jupyter-widgets/controls",
          "model_name": "ProgressStyleModel",
          "model_module_version": "1.5.0",
          "state": {
            "_model_module": "@jupyter-widgets/controls",
            "_model_module_version": "1.5.0",
            "_model_name": "ProgressStyleModel",
            "_view_count": null,
            "_view_module": "@jupyter-widgets/base",
            "_view_module_version": "1.2.0",
            "_view_name": "StyleView",
            "bar_color": null,
            "description_width": ""
          }
        },
        "9f9591e8316c4fac88e6af25de931cfe": {
          "model_module": "@jupyter-widgets/base",
          "model_name": "LayoutModel",
          "model_module_version": "1.2.0",
          "state": {
            "_model_module": "@jupyter-widgets/base",
            "_model_module_version": "1.2.0",
            "_model_name": "LayoutModel",
            "_view_count": null,
            "_view_module": "@jupyter-widgets/base",
            "_view_module_version": "1.2.0",
            "_view_name": "LayoutView",
            "align_content": null,
            "align_items": null,
            "align_self": null,
            "border": null,
            "bottom": null,
            "display": null,
            "flex": null,
            "flex_flow": null,
            "grid_area": null,
            "grid_auto_columns": null,
            "grid_auto_flow": null,
            "grid_auto_rows": null,
            "grid_column": null,
            "grid_gap": null,
            "grid_row": null,
            "grid_template_areas": null,
            "grid_template_columns": null,
            "grid_template_rows": null,
            "height": null,
            "justify_content": null,
            "justify_items": null,
            "left": null,
            "margin": null,
            "max_height": null,
            "max_width": null,
            "min_height": null,
            "min_width": null,
            "object_fit": null,
            "object_position": null,
            "order": null,
            "overflow": null,
            "overflow_x": null,
            "overflow_y": null,
            "padding": null,
            "right": null,
            "top": null,
            "visibility": null,
            "width": null
          }
        },
        "12d4a1b4a30b48b7b012ba2a3f68c820": {
          "model_module": "@jupyter-widgets/controls",
          "model_name": "DescriptionStyleModel",
          "model_module_version": "1.5.0",
          "state": {
            "_model_module": "@jupyter-widgets/controls",
            "_model_module_version": "1.5.0",
            "_model_name": "DescriptionStyleModel",
            "_view_count": null,
            "_view_module": "@jupyter-widgets/base",
            "_view_module_version": "1.2.0",
            "_view_name": "StyleView",
            "description_width": ""
          }
        },
        "9047f023e3e14d08b5d1462431e5fb40": {
          "model_module": "@jupyter-widgets/controls",
          "model_name": "HBoxModel",
          "model_module_version": "1.5.0",
          "state": {
            "_dom_classes": [],
            "_model_module": "@jupyter-widgets/controls",
            "_model_module_version": "1.5.0",
            "_model_name": "HBoxModel",
            "_view_count": null,
            "_view_module": "@jupyter-widgets/controls",
            "_view_module_version": "1.5.0",
            "_view_name": "HBoxView",
            "box_style": "",
            "children": [
              "IPY_MODEL_e1ffae0abd7a44529481f2b248118ffa",
              "IPY_MODEL_14b5871be0154860a746622198d0ff83",
              "IPY_MODEL_470b531876a243fa9ae9a4791927eeb2"
            ],
            "layout": "IPY_MODEL_66bfa7ee4f77436f8a85d6fbbe1c870e"
          }
        },
        "e1ffae0abd7a44529481f2b248118ffa": {
          "model_module": "@jupyter-widgets/controls",
          "model_name": "HTMLModel",
          "model_module_version": "1.5.0",
          "state": {
            "_dom_classes": [],
            "_model_module": "@jupyter-widgets/controls",
            "_model_module_version": "1.5.0",
            "_model_name": "HTMLModel",
            "_view_count": null,
            "_view_module": "@jupyter-widgets/controls",
            "_view_module_version": "1.5.0",
            "_view_name": "HTMLView",
            "description": "",
            "description_tooltip": null,
            "layout": "IPY_MODEL_f84bb7d79fdf4afcaf29096b3a0a4a45",
            "placeholder": "​",
            "style": "IPY_MODEL_cb272053933b4a9d8e528d50e9d67869",
            "value": "Downloading data: 100%"
          }
        },
        "14b5871be0154860a746622198d0ff83": {
          "model_module": "@jupyter-widgets/controls",
          "model_name": "FloatProgressModel",
          "model_module_version": "1.5.0",
          "state": {
            "_dom_classes": [],
            "_model_module": "@jupyter-widgets/controls",
            "_model_module_version": "1.5.0",
            "_model_name": "FloatProgressModel",
            "_view_count": null,
            "_view_module": "@jupyter-widgets/controls",
            "_view_module_version": "1.5.0",
            "_view_name": "ProgressView",
            "bar_style": "success",
            "description": "",
            "description_tooltip": null,
            "layout": "IPY_MODEL_6ffe2a8e73034ab5b1875e928857b2eb",
            "max": 3931114,
            "min": 0,
            "orientation": "horizontal",
            "style": "IPY_MODEL_35a98b0f37f54268a240bee06c782b44",
            "value": 3931114
          }
        },
        "470b531876a243fa9ae9a4791927eeb2": {
          "model_module": "@jupyter-widgets/controls",
          "model_name": "HTMLModel",
          "model_module_version": "1.5.0",
          "state": {
            "_dom_classes": [],
            "_model_module": "@jupyter-widgets/controls",
            "_model_module_version": "1.5.0",
            "_model_name": "HTMLModel",
            "_view_count": null,
            "_view_module": "@jupyter-widgets/controls",
            "_view_module_version": "1.5.0",
            "_view_name": "HTMLView",
            "description": "",
            "description_tooltip": null,
            "layout": "IPY_MODEL_ff955a01b7934dc5a6351a74b5f3a407",
            "placeholder": "​",
            "style": "IPY_MODEL_32fdd9f46bd147709e80975372fcbbc8",
            "value": " 3.93M/3.93M [00:00&lt;00:00, 6.42MB/s]"
          }
        },
        "66bfa7ee4f77436f8a85d6fbbe1c870e": {
          "model_module": "@jupyter-widgets/base",
          "model_name": "LayoutModel",
          "model_module_version": "1.2.0",
          "state": {
            "_model_module": "@jupyter-widgets/base",
            "_model_module_version": "1.2.0",
            "_model_name": "LayoutModel",
            "_view_count": null,
            "_view_module": "@jupyter-widgets/base",
            "_view_module_version": "1.2.0",
            "_view_name": "LayoutView",
            "align_content": null,
            "align_items": null,
            "align_self": null,
            "border": null,
            "bottom": null,
            "display": null,
            "flex": null,
            "flex_flow": null,
            "grid_area": null,
            "grid_auto_columns": null,
            "grid_auto_flow": null,
            "grid_auto_rows": null,
            "grid_column": null,
            "grid_gap": null,
            "grid_row": null,
            "grid_template_areas": null,
            "grid_template_columns": null,
            "grid_template_rows": null,
            "height": null,
            "justify_content": null,
            "justify_items": null,
            "left": null,
            "margin": null,
            "max_height": null,
            "max_width": null,
            "min_height": null,
            "min_width": null,
            "object_fit": null,
            "object_position": null,
            "order": null,
            "overflow": null,
            "overflow_x": null,
            "overflow_y": null,
            "padding": null,
            "right": null,
            "top": null,
            "visibility": null,
            "width": null
          }
        },
        "f84bb7d79fdf4afcaf29096b3a0a4a45": {
          "model_module": "@jupyter-widgets/base",
          "model_name": "LayoutModel",
          "model_module_version": "1.2.0",
          "state": {
            "_model_module": "@jupyter-widgets/base",
            "_model_module_version": "1.2.0",
            "_model_name": "LayoutModel",
            "_view_count": null,
            "_view_module": "@jupyter-widgets/base",
            "_view_module_version": "1.2.0",
            "_view_name": "LayoutView",
            "align_content": null,
            "align_items": null,
            "align_self": null,
            "border": null,
            "bottom": null,
            "display": null,
            "flex": null,
            "flex_flow": null,
            "grid_area": null,
            "grid_auto_columns": null,
            "grid_auto_flow": null,
            "grid_auto_rows": null,
            "grid_column": null,
            "grid_gap": null,
            "grid_row": null,
            "grid_template_areas": null,
            "grid_template_columns": null,
            "grid_template_rows": null,
            "height": null,
            "justify_content": null,
            "justify_items": null,
            "left": null,
            "margin": null,
            "max_height": null,
            "max_width": null,
            "min_height": null,
            "min_width": null,
            "object_fit": null,
            "object_position": null,
            "order": null,
            "overflow": null,
            "overflow_x": null,
            "overflow_y": null,
            "padding": null,
            "right": null,
            "top": null,
            "visibility": null,
            "width": null
          }
        },
        "cb272053933b4a9d8e528d50e9d67869": {
          "model_module": "@jupyter-widgets/controls",
          "model_name": "DescriptionStyleModel",
          "model_module_version": "1.5.0",
          "state": {
            "_model_module": "@jupyter-widgets/controls",
            "_model_module_version": "1.5.0",
            "_model_name": "DescriptionStyleModel",
            "_view_count": null,
            "_view_module": "@jupyter-widgets/base",
            "_view_module_version": "1.2.0",
            "_view_name": "StyleView",
            "description_width": ""
          }
        },
        "6ffe2a8e73034ab5b1875e928857b2eb": {
          "model_module": "@jupyter-widgets/base",
          "model_name": "LayoutModel",
          "model_module_version": "1.2.0",
          "state": {
            "_model_module": "@jupyter-widgets/base",
            "_model_module_version": "1.2.0",
            "_model_name": "LayoutModel",
            "_view_count": null,
            "_view_module": "@jupyter-widgets/base",
            "_view_module_version": "1.2.0",
            "_view_name": "LayoutView",
            "align_content": null,
            "align_items": null,
            "align_self": null,
            "border": null,
            "bottom": null,
            "display": null,
            "flex": null,
            "flex_flow": null,
            "grid_area": null,
            "grid_auto_columns": null,
            "grid_auto_flow": null,
            "grid_auto_rows": null,
            "grid_column": null,
            "grid_gap": null,
            "grid_row": null,
            "grid_template_areas": null,
            "grid_template_columns": null,
            "grid_template_rows": null,
            "height": null,
            "justify_content": null,
            "justify_items": null,
            "left": null,
            "margin": null,
            "max_height": null,
            "max_width": null,
            "min_height": null,
            "min_width": null,
            "object_fit": null,
            "object_position": null,
            "order": null,
            "overflow": null,
            "overflow_x": null,
            "overflow_y": null,
            "padding": null,
            "right": null,
            "top": null,
            "visibility": null,
            "width": null
          }
        },
        "35a98b0f37f54268a240bee06c782b44": {
          "model_module": "@jupyter-widgets/controls",
          "model_name": "ProgressStyleModel",
          "model_module_version": "1.5.0",
          "state": {
            "_model_module": "@jupyter-widgets/controls",
            "_model_module_version": "1.5.0",
            "_model_name": "ProgressStyleModel",
            "_view_count": null,
            "_view_module": "@jupyter-widgets/base",
            "_view_module_version": "1.2.0",
            "_view_name": "StyleView",
            "bar_color": null,
            "description_width": ""
          }
        },
        "ff955a01b7934dc5a6351a74b5f3a407": {
          "model_module": "@jupyter-widgets/base",
          "model_name": "LayoutModel",
          "model_module_version": "1.2.0",
          "state": {
            "_model_module": "@jupyter-widgets/base",
            "_model_module_version": "1.2.0",
            "_model_name": "LayoutModel",
            "_view_count": null,
            "_view_module": "@jupyter-widgets/base",
            "_view_module_version": "1.2.0",
            "_view_name": "LayoutView",
            "align_content": null,
            "align_items": null,
            "align_self": null,
            "border": null,
            "bottom": null,
            "display": null,
            "flex": null,
            "flex_flow": null,
            "grid_area": null,
            "grid_auto_columns": null,
            "grid_auto_flow": null,
            "grid_auto_rows": null,
            "grid_column": null,
            "grid_gap": null,
            "grid_row": null,
            "grid_template_areas": null,
            "grid_template_columns": null,
            "grid_template_rows": null,
            "height": null,
            "justify_content": null,
            "justify_items": null,
            "left": null,
            "margin": null,
            "max_height": null,
            "max_width": null,
            "min_height": null,
            "min_width": null,
            "object_fit": null,
            "object_position": null,
            "order": null,
            "overflow": null,
            "overflow_x": null,
            "overflow_y": null,
            "padding": null,
            "right": null,
            "top": null,
            "visibility": null,
            "width": null
          }
        },
        "32fdd9f46bd147709e80975372fcbbc8": {
          "model_module": "@jupyter-widgets/controls",
          "model_name": "DescriptionStyleModel",
          "model_module_version": "1.5.0",
          "state": {
            "_model_module": "@jupyter-widgets/controls",
            "_model_module_version": "1.5.0",
            "_model_name": "DescriptionStyleModel",
            "_view_count": null,
            "_view_module": "@jupyter-widgets/base",
            "_view_module_version": "1.2.0",
            "_view_name": "StyleView",
            "description_width": ""
          }
        },
        "761c2117cad148cca9608e23ec1003ea": {
          "model_module": "@jupyter-widgets/controls",
          "model_name": "HBoxModel",
          "model_module_version": "1.5.0",
          "state": {
            "_dom_classes": [],
            "_model_module": "@jupyter-widgets/controls",
            "_model_module_version": "1.5.0",
            "_model_name": "HBoxModel",
            "_view_count": null,
            "_view_module": "@jupyter-widgets/controls",
            "_view_module_version": "1.5.0",
            "_view_name": "HBoxView",
            "box_style": "",
            "children": [
              "IPY_MODEL_142c337c65b54bd7b6d00eab7ac4e3fd",
              "IPY_MODEL_e02925dadbf14d36bd26665a4113ce1d",
              "IPY_MODEL_eb44d8e75cf449a88175568455b7b6f0"
            ],
            "layout": "IPY_MODEL_36d07e99687d42829ddec597544bf5ba"
          }
        },
        "142c337c65b54bd7b6d00eab7ac4e3fd": {
          "model_module": "@jupyter-widgets/controls",
          "model_name": "HTMLModel",
          "model_module_version": "1.5.0",
          "state": {
            "_dom_classes": [],
            "_model_module": "@jupyter-widgets/controls",
            "_model_module_version": "1.5.0",
            "_model_name": "HTMLModel",
            "_view_count": null,
            "_view_module": "@jupyter-widgets/controls",
            "_view_module_version": "1.5.0",
            "_view_name": "HTMLView",
            "description": "",
            "description_tooltip": null,
            "layout": "IPY_MODEL_fa391a265b024eb79d99361ebce1f3af",
            "placeholder": "​",
            "style": "IPY_MODEL_fa47cb569023409db5b6e6b2b94442dd",
            "value": "Downloading data: 100%"
          }
        },
        "e02925dadbf14d36bd26665a4113ce1d": {
          "model_module": "@jupyter-widgets/controls",
          "model_name": "FloatProgressModel",
          "model_module_version": "1.5.0",
          "state": {
            "_dom_classes": [],
            "_model_module": "@jupyter-widgets/controls",
            "_model_module_version": "1.5.0",
            "_model_name": "FloatProgressModel",
            "_view_count": null,
            "_view_module": "@jupyter-widgets/controls",
            "_view_module_version": "1.5.0",
            "_view_name": "ProgressView",
            "bar_style": "success",
            "description": "",
            "description_tooltip": null,
            "layout": "IPY_MODEL_18e46af4135f45c4a4b3035730acf870",
            "max": 503351,
            "min": 0,
            "orientation": "horizontal",
            "style": "IPY_MODEL_1c43c0779f794023b74d8ce3fc79efd7",
            "value": 503351
          }
        },
        "eb44d8e75cf449a88175568455b7b6f0": {
          "model_module": "@jupyter-widgets/controls",
          "model_name": "HTMLModel",
          "model_module_version": "1.5.0",
          "state": {
            "_dom_classes": [],
            "_model_module": "@jupyter-widgets/controls",
            "_model_module_version": "1.5.0",
            "_model_name": "HTMLModel",
            "_view_count": null,
            "_view_module": "@jupyter-widgets/controls",
            "_view_module_version": "1.5.0",
            "_view_name": "HTMLView",
            "description": "",
            "description_tooltip": null,
            "layout": "IPY_MODEL_9762a4e16076464893f2881492a754ee",
            "placeholder": "​",
            "style": "IPY_MODEL_96867d83479045e79092b55eb446d67f",
            "value": " 503k/503k [00:00&lt;00:00, 930kB/s]"
          }
        },
        "36d07e99687d42829ddec597544bf5ba": {
          "model_module": "@jupyter-widgets/base",
          "model_name": "LayoutModel",
          "model_module_version": "1.2.0",
          "state": {
            "_model_module": "@jupyter-widgets/base",
            "_model_module_version": "1.2.0",
            "_model_name": "LayoutModel",
            "_view_count": null,
            "_view_module": "@jupyter-widgets/base",
            "_view_module_version": "1.2.0",
            "_view_name": "LayoutView",
            "align_content": null,
            "align_items": null,
            "align_self": null,
            "border": null,
            "bottom": null,
            "display": null,
            "flex": null,
            "flex_flow": null,
            "grid_area": null,
            "grid_auto_columns": null,
            "grid_auto_flow": null,
            "grid_auto_rows": null,
            "grid_column": null,
            "grid_gap": null,
            "grid_row": null,
            "grid_template_areas": null,
            "grid_template_columns": null,
            "grid_template_rows": null,
            "height": null,
            "justify_content": null,
            "justify_items": null,
            "left": null,
            "margin": null,
            "max_height": null,
            "max_width": null,
            "min_height": null,
            "min_width": null,
            "object_fit": null,
            "object_position": null,
            "order": null,
            "overflow": null,
            "overflow_x": null,
            "overflow_y": null,
            "padding": null,
            "right": null,
            "top": null,
            "visibility": null,
            "width": null
          }
        },
        "fa391a265b024eb79d99361ebce1f3af": {
          "model_module": "@jupyter-widgets/base",
          "model_name": "LayoutModel",
          "model_module_version": "1.2.0",
          "state": {
            "_model_module": "@jupyter-widgets/base",
            "_model_module_version": "1.2.0",
            "_model_name": "LayoutModel",
            "_view_count": null,
            "_view_module": "@jupyter-widgets/base",
            "_view_module_version": "1.2.0",
            "_view_name": "LayoutView",
            "align_content": null,
            "align_items": null,
            "align_self": null,
            "border": null,
            "bottom": null,
            "display": null,
            "flex": null,
            "flex_flow": null,
            "grid_area": null,
            "grid_auto_columns": null,
            "grid_auto_flow": null,
            "grid_auto_rows": null,
            "grid_column": null,
            "grid_gap": null,
            "grid_row": null,
            "grid_template_areas": null,
            "grid_template_columns": null,
            "grid_template_rows": null,
            "height": null,
            "justify_content": null,
            "justify_items": null,
            "left": null,
            "margin": null,
            "max_height": null,
            "max_width": null,
            "min_height": null,
            "min_width": null,
            "object_fit": null,
            "object_position": null,
            "order": null,
            "overflow": null,
            "overflow_x": null,
            "overflow_y": null,
            "padding": null,
            "right": null,
            "top": null,
            "visibility": null,
            "width": null
          }
        },
        "fa47cb569023409db5b6e6b2b94442dd": {
          "model_module": "@jupyter-widgets/controls",
          "model_name": "DescriptionStyleModel",
          "model_module_version": "1.5.0",
          "state": {
            "_model_module": "@jupyter-widgets/controls",
            "_model_module_version": "1.5.0",
            "_model_name": "DescriptionStyleModel",
            "_view_count": null,
            "_view_module": "@jupyter-widgets/base",
            "_view_module_version": "1.2.0",
            "_view_name": "StyleView",
            "description_width": ""
          }
        },
        "18e46af4135f45c4a4b3035730acf870": {
          "model_module": "@jupyter-widgets/base",
          "model_name": "LayoutModel",
          "model_module_version": "1.2.0",
          "state": {
            "_model_module": "@jupyter-widgets/base",
            "_model_module_version": "1.2.0",
            "_model_name": "LayoutModel",
            "_view_count": null,
            "_view_module": "@jupyter-widgets/base",
            "_view_module_version": "1.2.0",
            "_view_name": "LayoutView",
            "align_content": null,
            "align_items": null,
            "align_self": null,
            "border": null,
            "bottom": null,
            "display": null,
            "flex": null,
            "flex_flow": null,
            "grid_area": null,
            "grid_auto_columns": null,
            "grid_auto_flow": null,
            "grid_auto_rows": null,
            "grid_column": null,
            "grid_gap": null,
            "grid_row": null,
            "grid_template_areas": null,
            "grid_template_columns": null,
            "grid_template_rows": null,
            "height": null,
            "justify_content": null,
            "justify_items": null,
            "left": null,
            "margin": null,
            "max_height": null,
            "max_width": null,
            "min_height": null,
            "min_width": null,
            "object_fit": null,
            "object_position": null,
            "order": null,
            "overflow": null,
            "overflow_x": null,
            "overflow_y": null,
            "padding": null,
            "right": null,
            "top": null,
            "visibility": null,
            "width": null
          }
        },
        "1c43c0779f794023b74d8ce3fc79efd7": {
          "model_module": "@jupyter-widgets/controls",
          "model_name": "ProgressStyleModel",
          "model_module_version": "1.5.0",
          "state": {
            "_model_module": "@jupyter-widgets/controls",
            "_model_module_version": "1.5.0",
            "_model_name": "ProgressStyleModel",
            "_view_count": null,
            "_view_module": "@jupyter-widgets/base",
            "_view_module_version": "1.2.0",
            "_view_name": "StyleView",
            "bar_color": null,
            "description_width": ""
          }
        },
        "9762a4e16076464893f2881492a754ee": {
          "model_module": "@jupyter-widgets/base",
          "model_name": "LayoutModel",
          "model_module_version": "1.2.0",
          "state": {
            "_model_module": "@jupyter-widgets/base",
            "_model_module_version": "1.2.0",
            "_model_name": "LayoutModel",
            "_view_count": null,
            "_view_module": "@jupyter-widgets/base",
            "_view_module_version": "1.2.0",
            "_view_name": "LayoutView",
            "align_content": null,
            "align_items": null,
            "align_self": null,
            "border": null,
            "bottom": null,
            "display": null,
            "flex": null,
            "flex_flow": null,
            "grid_area": null,
            "grid_auto_columns": null,
            "grid_auto_flow": null,
            "grid_auto_rows": null,
            "grid_column": null,
            "grid_gap": null,
            "grid_row": null,
            "grid_template_areas": null,
            "grid_template_columns": null,
            "grid_template_rows": null,
            "height": null,
            "justify_content": null,
            "justify_items": null,
            "left": null,
            "margin": null,
            "max_height": null,
            "max_width": null,
            "min_height": null,
            "min_width": null,
            "object_fit": null,
            "object_position": null,
            "order": null,
            "overflow": null,
            "overflow_x": null,
            "overflow_y": null,
            "padding": null,
            "right": null,
            "top": null,
            "visibility": null,
            "width": null
          }
        },
        "96867d83479045e79092b55eb446d67f": {
          "model_module": "@jupyter-widgets/controls",
          "model_name": "DescriptionStyleModel",
          "model_module_version": "1.5.0",
          "state": {
            "_model_module": "@jupyter-widgets/controls",
            "_model_module_version": "1.5.0",
            "_model_name": "DescriptionStyleModel",
            "_view_count": null,
            "_view_module": "@jupyter-widgets/base",
            "_view_module_version": "1.2.0",
            "_view_name": "StyleView",
            "description_width": ""
          }
        },
        "2ce91e38cbd143718a7bc01bd9d0bcf6": {
          "model_module": "@jupyter-widgets/controls",
          "model_name": "HBoxModel",
          "model_module_version": "1.5.0",
          "state": {
            "_dom_classes": [],
            "_model_module": "@jupyter-widgets/controls",
            "_model_module_version": "1.5.0",
            "_model_name": "HBoxModel",
            "_view_count": null,
            "_view_module": "@jupyter-widgets/controls",
            "_view_module_version": "1.5.0",
            "_view_name": "HBoxView",
            "box_style": "",
            "children": [
              "IPY_MODEL_e46de6bf56374c5c945f2926e8578c3d",
              "IPY_MODEL_5b2d13235de445198dd0668b8e397fb7",
              "IPY_MODEL_614634cb4bca400094391faab3acd2da"
            ],
            "layout": "IPY_MODEL_310803c87a9e4a4587bd01e94faae148"
          }
        },
        "e46de6bf56374c5c945f2926e8578c3d": {
          "model_module": "@jupyter-widgets/controls",
          "model_name": "HTMLModel",
          "model_module_version": "1.5.0",
          "state": {
            "_dom_classes": [],
            "_model_module": "@jupyter-widgets/controls",
            "_model_module_version": "1.5.0",
            "_model_name": "HTMLModel",
            "_view_count": null,
            "_view_module": "@jupyter-widgets/controls",
            "_view_module_version": "1.5.0",
            "_view_name": "HTMLView",
            "description": "",
            "description_tooltip": null,
            "layout": "IPY_MODEL_b3552431d09d4f528ac8938c2de2a922",
            "placeholder": "​",
            "style": "IPY_MODEL_b28679516a634cf788e753950d457ed5",
            "value": "Generating train split: 100%"
          }
        },
        "5b2d13235de445198dd0668b8e397fb7": {
          "model_module": "@jupyter-widgets/controls",
          "model_name": "FloatProgressModel",
          "model_module_version": "1.5.0",
          "state": {
            "_dom_classes": [],
            "_model_module": "@jupyter-widgets/controls",
            "_model_module_version": "1.5.0",
            "_model_name": "FloatProgressModel",
            "_view_count": null,
            "_view_module": "@jupyter-widgets/controls",
            "_view_module_version": "1.5.0",
            "_view_name": "ProgressView",
            "bar_style": "success",
            "description": "",
            "description_tooltip": null,
            "layout": "IPY_MODEL_27f0ccfe0c5d49a4bcd3102546abb5cf",
            "max": 27481,
            "min": 0,
            "orientation": "horizontal",
            "style": "IPY_MODEL_a50d64e849a94709bf5180e2a70025fb",
            "value": 27481
          }
        },
        "614634cb4bca400094391faab3acd2da": {
          "model_module": "@jupyter-widgets/controls",
          "model_name": "HTMLModel",
          "model_module_version": "1.5.0",
          "state": {
            "_dom_classes": [],
            "_model_module": "@jupyter-widgets/controls",
            "_model_module_version": "1.5.0",
            "_model_name": "HTMLModel",
            "_view_count": null,
            "_view_module": "@jupyter-widgets/controls",
            "_view_module_version": "1.5.0",
            "_view_name": "HTMLView",
            "description": "",
            "description_tooltip": null,
            "layout": "IPY_MODEL_8f51fd6723ae4573b669a46648e90ef0",
            "placeholder": "​",
            "style": "IPY_MODEL_8b023b2ac9764eacbe9d62b610f9ebe5",
            "value": " 27481/27481 [00:00&lt;00:00, 149960.86 examples/s]"
          }
        },
        "310803c87a9e4a4587bd01e94faae148": {
          "model_module": "@jupyter-widgets/base",
          "model_name": "LayoutModel",
          "model_module_version": "1.2.0",
          "state": {
            "_model_module": "@jupyter-widgets/base",
            "_model_module_version": "1.2.0",
            "_model_name": "LayoutModel",
            "_view_count": null,
            "_view_module": "@jupyter-widgets/base",
            "_view_module_version": "1.2.0",
            "_view_name": "LayoutView",
            "align_content": null,
            "align_items": null,
            "align_self": null,
            "border": null,
            "bottom": null,
            "display": null,
            "flex": null,
            "flex_flow": null,
            "grid_area": null,
            "grid_auto_columns": null,
            "grid_auto_flow": null,
            "grid_auto_rows": null,
            "grid_column": null,
            "grid_gap": null,
            "grid_row": null,
            "grid_template_areas": null,
            "grid_template_columns": null,
            "grid_template_rows": null,
            "height": null,
            "justify_content": null,
            "justify_items": null,
            "left": null,
            "margin": null,
            "max_height": null,
            "max_width": null,
            "min_height": null,
            "min_width": null,
            "object_fit": null,
            "object_position": null,
            "order": null,
            "overflow": null,
            "overflow_x": null,
            "overflow_y": null,
            "padding": null,
            "right": null,
            "top": null,
            "visibility": null,
            "width": null
          }
        },
        "b3552431d09d4f528ac8938c2de2a922": {
          "model_module": "@jupyter-widgets/base",
          "model_name": "LayoutModel",
          "model_module_version": "1.2.0",
          "state": {
            "_model_module": "@jupyter-widgets/base",
            "_model_module_version": "1.2.0",
            "_model_name": "LayoutModel",
            "_view_count": null,
            "_view_module": "@jupyter-widgets/base",
            "_view_module_version": "1.2.0",
            "_view_name": "LayoutView",
            "align_content": null,
            "align_items": null,
            "align_self": null,
            "border": null,
            "bottom": null,
            "display": null,
            "flex": null,
            "flex_flow": null,
            "grid_area": null,
            "grid_auto_columns": null,
            "grid_auto_flow": null,
            "grid_auto_rows": null,
            "grid_column": null,
            "grid_gap": null,
            "grid_row": null,
            "grid_template_areas": null,
            "grid_template_columns": null,
            "grid_template_rows": null,
            "height": null,
            "justify_content": null,
            "justify_items": null,
            "left": null,
            "margin": null,
            "max_height": null,
            "max_width": null,
            "min_height": null,
            "min_width": null,
            "object_fit": null,
            "object_position": null,
            "order": null,
            "overflow": null,
            "overflow_x": null,
            "overflow_y": null,
            "padding": null,
            "right": null,
            "top": null,
            "visibility": null,
            "width": null
          }
        },
        "b28679516a634cf788e753950d457ed5": {
          "model_module": "@jupyter-widgets/controls",
          "model_name": "DescriptionStyleModel",
          "model_module_version": "1.5.0",
          "state": {
            "_model_module": "@jupyter-widgets/controls",
            "_model_module_version": "1.5.0",
            "_model_name": "DescriptionStyleModel",
            "_view_count": null,
            "_view_module": "@jupyter-widgets/base",
            "_view_module_version": "1.2.0",
            "_view_name": "StyleView",
            "description_width": ""
          }
        },
        "27f0ccfe0c5d49a4bcd3102546abb5cf": {
          "model_module": "@jupyter-widgets/base",
          "model_name": "LayoutModel",
          "model_module_version": "1.2.0",
          "state": {
            "_model_module": "@jupyter-widgets/base",
            "_model_module_version": "1.2.0",
            "_model_name": "LayoutModel",
            "_view_count": null,
            "_view_module": "@jupyter-widgets/base",
            "_view_module_version": "1.2.0",
            "_view_name": "LayoutView",
            "align_content": null,
            "align_items": null,
            "align_self": null,
            "border": null,
            "bottom": null,
            "display": null,
            "flex": null,
            "flex_flow": null,
            "grid_area": null,
            "grid_auto_columns": null,
            "grid_auto_flow": null,
            "grid_auto_rows": null,
            "grid_column": null,
            "grid_gap": null,
            "grid_row": null,
            "grid_template_areas": null,
            "grid_template_columns": null,
            "grid_template_rows": null,
            "height": null,
            "justify_content": null,
            "justify_items": null,
            "left": null,
            "margin": null,
            "max_height": null,
            "max_width": null,
            "min_height": null,
            "min_width": null,
            "object_fit": null,
            "object_position": null,
            "order": null,
            "overflow": null,
            "overflow_x": null,
            "overflow_y": null,
            "padding": null,
            "right": null,
            "top": null,
            "visibility": null,
            "width": null
          }
        },
        "a50d64e849a94709bf5180e2a70025fb": {
          "model_module": "@jupyter-widgets/controls",
          "model_name": "ProgressStyleModel",
          "model_module_version": "1.5.0",
          "state": {
            "_model_module": "@jupyter-widgets/controls",
            "_model_module_version": "1.5.0",
            "_model_name": "ProgressStyleModel",
            "_view_count": null,
            "_view_module": "@jupyter-widgets/base",
            "_view_module_version": "1.2.0",
            "_view_name": "StyleView",
            "bar_color": null,
            "description_width": ""
          }
        },
        "8f51fd6723ae4573b669a46648e90ef0": {
          "model_module": "@jupyter-widgets/base",
          "model_name": "LayoutModel",
          "model_module_version": "1.2.0",
          "state": {
            "_model_module": "@jupyter-widgets/base",
            "_model_module_version": "1.2.0",
            "_model_name": "LayoutModel",
            "_view_count": null,
            "_view_module": "@jupyter-widgets/base",
            "_view_module_version": "1.2.0",
            "_view_name": "LayoutView",
            "align_content": null,
            "align_items": null,
            "align_self": null,
            "border": null,
            "bottom": null,
            "display": null,
            "flex": null,
            "flex_flow": null,
            "grid_area": null,
            "grid_auto_columns": null,
            "grid_auto_flow": null,
            "grid_auto_rows": null,
            "grid_column": null,
            "grid_gap": null,
            "grid_row": null,
            "grid_template_areas": null,
            "grid_template_columns": null,
            "grid_template_rows": null,
            "height": null,
            "justify_content": null,
            "justify_items": null,
            "left": null,
            "margin": null,
            "max_height": null,
            "max_width": null,
            "min_height": null,
            "min_width": null,
            "object_fit": null,
            "object_position": null,
            "order": null,
            "overflow": null,
            "overflow_x": null,
            "overflow_y": null,
            "padding": null,
            "right": null,
            "top": null,
            "visibility": null,
            "width": null
          }
        },
        "8b023b2ac9764eacbe9d62b610f9ebe5": {
          "model_module": "@jupyter-widgets/controls",
          "model_name": "DescriptionStyleModel",
          "model_module_version": "1.5.0",
          "state": {
            "_model_module": "@jupyter-widgets/controls",
            "_model_module_version": "1.5.0",
            "_model_name": "DescriptionStyleModel",
            "_view_count": null,
            "_view_module": "@jupyter-widgets/base",
            "_view_module_version": "1.2.0",
            "_view_name": "StyleView",
            "description_width": ""
          }
        },
        "cfede81cfdfb4c9baba448a474cbcc3a": {
          "model_module": "@jupyter-widgets/controls",
          "model_name": "HBoxModel",
          "model_module_version": "1.5.0",
          "state": {
            "_dom_classes": [],
            "_model_module": "@jupyter-widgets/controls",
            "_model_module_version": "1.5.0",
            "_model_name": "HBoxModel",
            "_view_count": null,
            "_view_module": "@jupyter-widgets/controls",
            "_view_module_version": "1.5.0",
            "_view_name": "HBoxView",
            "box_style": "",
            "children": [
              "IPY_MODEL_d5f334e9737f479fbc31b05dc02f0536",
              "IPY_MODEL_615f2c88b60d48e580d178def5a61810",
              "IPY_MODEL_66141f3e395548a6bd9950e63953ce8c"
            ],
            "layout": "IPY_MODEL_62e457c531724139a61af6d7dd76da9c"
          }
        },
        "d5f334e9737f479fbc31b05dc02f0536": {
          "model_module": "@jupyter-widgets/controls",
          "model_name": "HTMLModel",
          "model_module_version": "1.5.0",
          "state": {
            "_dom_classes": [],
            "_model_module": "@jupyter-widgets/controls",
            "_model_module_version": "1.5.0",
            "_model_name": "HTMLModel",
            "_view_count": null,
            "_view_module": "@jupyter-widgets/controls",
            "_view_module_version": "1.5.0",
            "_view_name": "HTMLView",
            "description": "",
            "description_tooltip": null,
            "layout": "IPY_MODEL_46d6aaf7f615400baa99fc54eebbbdb2",
            "placeholder": "​",
            "style": "IPY_MODEL_6c6cd3b7ab804c90b468c15d1d749eda",
            "value": "Generating test split: 100%"
          }
        },
        "615f2c88b60d48e580d178def5a61810": {
          "model_module": "@jupyter-widgets/controls",
          "model_name": "FloatProgressModel",
          "model_module_version": "1.5.0",
          "state": {
            "_dom_classes": [],
            "_model_module": "@jupyter-widgets/controls",
            "_model_module_version": "1.5.0",
            "_model_name": "FloatProgressModel",
            "_view_count": null,
            "_view_module": "@jupyter-widgets/controls",
            "_view_module_version": "1.5.0",
            "_view_name": "ProgressView",
            "bar_style": "success",
            "description": "",
            "description_tooltip": null,
            "layout": "IPY_MODEL_1b4a52d746784c1b91e0a29add6c5993",
            "max": 3534,
            "min": 0,
            "orientation": "horizontal",
            "style": "IPY_MODEL_35be1b4c64a04854ac32eb34c2c35825",
            "value": 3534
          }
        },
        "66141f3e395548a6bd9950e63953ce8c": {
          "model_module": "@jupyter-widgets/controls",
          "model_name": "HTMLModel",
          "model_module_version": "1.5.0",
          "state": {
            "_dom_classes": [],
            "_model_module": "@jupyter-widgets/controls",
            "_model_module_version": "1.5.0",
            "_model_name": "HTMLModel",
            "_view_count": null,
            "_view_module": "@jupyter-widgets/controls",
            "_view_module_version": "1.5.0",
            "_view_name": "HTMLView",
            "description": "",
            "description_tooltip": null,
            "layout": "IPY_MODEL_a5c50168cecd421180219b415817cba9",
            "placeholder": "​",
            "style": "IPY_MODEL_b0d7c90be1bd45e8907e328a7df24818",
            "value": " 3534/3534 [00:00&lt;00:00, 86968.62 examples/s]"
          }
        },
        "62e457c531724139a61af6d7dd76da9c": {
          "model_module": "@jupyter-widgets/base",
          "model_name": "LayoutModel",
          "model_module_version": "1.2.0",
          "state": {
            "_model_module": "@jupyter-widgets/base",
            "_model_module_version": "1.2.0",
            "_model_name": "LayoutModel",
            "_view_count": null,
            "_view_module": "@jupyter-widgets/base",
            "_view_module_version": "1.2.0",
            "_view_name": "LayoutView",
            "align_content": null,
            "align_items": null,
            "align_self": null,
            "border": null,
            "bottom": null,
            "display": null,
            "flex": null,
            "flex_flow": null,
            "grid_area": null,
            "grid_auto_columns": null,
            "grid_auto_flow": null,
            "grid_auto_rows": null,
            "grid_column": null,
            "grid_gap": null,
            "grid_row": null,
            "grid_template_areas": null,
            "grid_template_columns": null,
            "grid_template_rows": null,
            "height": null,
            "justify_content": null,
            "justify_items": null,
            "left": null,
            "margin": null,
            "max_height": null,
            "max_width": null,
            "min_height": null,
            "min_width": null,
            "object_fit": null,
            "object_position": null,
            "order": null,
            "overflow": null,
            "overflow_x": null,
            "overflow_y": null,
            "padding": null,
            "right": null,
            "top": null,
            "visibility": null,
            "width": null
          }
        },
        "46d6aaf7f615400baa99fc54eebbbdb2": {
          "model_module": "@jupyter-widgets/base",
          "model_name": "LayoutModel",
          "model_module_version": "1.2.0",
          "state": {
            "_model_module": "@jupyter-widgets/base",
            "_model_module_version": "1.2.0",
            "_model_name": "LayoutModel",
            "_view_count": null,
            "_view_module": "@jupyter-widgets/base",
            "_view_module_version": "1.2.0",
            "_view_name": "LayoutView",
            "align_content": null,
            "align_items": null,
            "align_self": null,
            "border": null,
            "bottom": null,
            "display": null,
            "flex": null,
            "flex_flow": null,
            "grid_area": null,
            "grid_auto_columns": null,
            "grid_auto_flow": null,
            "grid_auto_rows": null,
            "grid_column": null,
            "grid_gap": null,
            "grid_row": null,
            "grid_template_areas": null,
            "grid_template_columns": null,
            "grid_template_rows": null,
            "height": null,
            "justify_content": null,
            "justify_items": null,
            "left": null,
            "margin": null,
            "max_height": null,
            "max_width": null,
            "min_height": null,
            "min_width": null,
            "object_fit": null,
            "object_position": null,
            "order": null,
            "overflow": null,
            "overflow_x": null,
            "overflow_y": null,
            "padding": null,
            "right": null,
            "top": null,
            "visibility": null,
            "width": null
          }
        },
        "6c6cd3b7ab804c90b468c15d1d749eda": {
          "model_module": "@jupyter-widgets/controls",
          "model_name": "DescriptionStyleModel",
          "model_module_version": "1.5.0",
          "state": {
            "_model_module": "@jupyter-widgets/controls",
            "_model_module_version": "1.5.0",
            "_model_name": "DescriptionStyleModel",
            "_view_count": null,
            "_view_module": "@jupyter-widgets/base",
            "_view_module_version": "1.2.0",
            "_view_name": "StyleView",
            "description_width": ""
          }
        },
        "1b4a52d746784c1b91e0a29add6c5993": {
          "model_module": "@jupyter-widgets/base",
          "model_name": "LayoutModel",
          "model_module_version": "1.2.0",
          "state": {
            "_model_module": "@jupyter-widgets/base",
            "_model_module_version": "1.2.0",
            "_model_name": "LayoutModel",
            "_view_count": null,
            "_view_module": "@jupyter-widgets/base",
            "_view_module_version": "1.2.0",
            "_view_name": "LayoutView",
            "align_content": null,
            "align_items": null,
            "align_self": null,
            "border": null,
            "bottom": null,
            "display": null,
            "flex": null,
            "flex_flow": null,
            "grid_area": null,
            "grid_auto_columns": null,
            "grid_auto_flow": null,
            "grid_auto_rows": null,
            "grid_column": null,
            "grid_gap": null,
            "grid_row": null,
            "grid_template_areas": null,
            "grid_template_columns": null,
            "grid_template_rows": null,
            "height": null,
            "justify_content": null,
            "justify_items": null,
            "left": null,
            "margin": null,
            "max_height": null,
            "max_width": null,
            "min_height": null,
            "min_width": null,
            "object_fit": null,
            "object_position": null,
            "order": null,
            "overflow": null,
            "overflow_x": null,
            "overflow_y": null,
            "padding": null,
            "right": null,
            "top": null,
            "visibility": null,
            "width": null
          }
        },
        "35be1b4c64a04854ac32eb34c2c35825": {
          "model_module": "@jupyter-widgets/controls",
          "model_name": "ProgressStyleModel",
          "model_module_version": "1.5.0",
          "state": {
            "_model_module": "@jupyter-widgets/controls",
            "_model_module_version": "1.5.0",
            "_model_name": "ProgressStyleModel",
            "_view_count": null,
            "_view_module": "@jupyter-widgets/base",
            "_view_module_version": "1.2.0",
            "_view_name": "StyleView",
            "bar_color": null,
            "description_width": ""
          }
        },
        "a5c50168cecd421180219b415817cba9": {
          "model_module": "@jupyter-widgets/base",
          "model_name": "LayoutModel",
          "model_module_version": "1.2.0",
          "state": {
            "_model_module": "@jupyter-widgets/base",
            "_model_module_version": "1.2.0",
            "_model_name": "LayoutModel",
            "_view_count": null,
            "_view_module": "@jupyter-widgets/base",
            "_view_module_version": "1.2.0",
            "_view_name": "LayoutView",
            "align_content": null,
            "align_items": null,
            "align_self": null,
            "border": null,
            "bottom": null,
            "display": null,
            "flex": null,
            "flex_flow": null,
            "grid_area": null,
            "grid_auto_columns": null,
            "grid_auto_flow": null,
            "grid_auto_rows": null,
            "grid_column": null,
            "grid_gap": null,
            "grid_row": null,
            "grid_template_areas": null,
            "grid_template_columns": null,
            "grid_template_rows": null,
            "height": null,
            "justify_content": null,
            "justify_items": null,
            "left": null,
            "margin": null,
            "max_height": null,
            "max_width": null,
            "min_height": null,
            "min_width": null,
            "object_fit": null,
            "object_position": null,
            "order": null,
            "overflow": null,
            "overflow_x": null,
            "overflow_y": null,
            "padding": null,
            "right": null,
            "top": null,
            "visibility": null,
            "width": null
          }
        },
        "b0d7c90be1bd45e8907e328a7df24818": {
          "model_module": "@jupyter-widgets/controls",
          "model_name": "DescriptionStyleModel",
          "model_module_version": "1.5.0",
          "state": {
            "_model_module": "@jupyter-widgets/controls",
            "_model_module_version": "1.5.0",
            "_model_name": "DescriptionStyleModel",
            "_view_count": null,
            "_view_module": "@jupyter-widgets/base",
            "_view_module_version": "1.2.0",
            "_view_name": "StyleView",
            "description_width": ""
          }
        }
      }
    }
  },
  "cells": [
    {
      "cell_type": "markdown",
      "source": [
        "## Install Packages"
      ],
      "metadata": {
        "id": "MkU9JGlqWBEn"
      }
    },
    {
      "cell_type": "code",
      "source": [
        "!pip install datasets gensim"
      ],
      "metadata": {
        "colab": {
          "base_uri": "https://localhost:8080/"
        },
        "id": "shlNGr89b5hH",
        "outputId": "0ec9cf28-fdff-4cae-ad30-1a201d1d182f",
        "collapsed": true
      },
      "execution_count": 1,
      "outputs": [
        {
          "output_type": "stream",
          "name": "stdout",
          "text": [
            "Collecting datasets\n",
            "  Downloading datasets-2.20.0-py3-none-any.whl (547 kB)\n",
            "\u001b[2K     \u001b[90m━━━━━━━━━━━━━━━━━━━━━━━━━━━━━━━━━━━━━━━━\u001b[0m \u001b[32m547.8/547.8 kB\u001b[0m \u001b[31m8.5 MB/s\u001b[0m eta \u001b[36m0:00:00\u001b[0m\n",
            "\u001b[?25hRequirement already satisfied: gensim in /usr/local/lib/python3.10/dist-packages (4.3.2)\n",
            "Requirement already satisfied: filelock in /usr/local/lib/python3.10/dist-packages (from datasets) (3.15.4)\n",
            "Requirement already satisfied: numpy>=1.17 in /usr/local/lib/python3.10/dist-packages (from datasets) (1.25.2)\n",
            "Collecting pyarrow>=15.0.0 (from datasets)\n",
            "  Downloading pyarrow-17.0.0-cp310-cp310-manylinux_2_28_x86_64.whl (39.9 MB)\n",
            "\u001b[2K     \u001b[90m━━━━━━━━━━━━━━━━━━━━━━━━━━━━━━━━━━━━━━━━\u001b[0m \u001b[32m39.9/39.9 MB\u001b[0m \u001b[31m16.4 MB/s\u001b[0m eta \u001b[36m0:00:00\u001b[0m\n",
            "\u001b[?25hRequirement already satisfied: pyarrow-hotfix in /usr/local/lib/python3.10/dist-packages (from datasets) (0.6)\n",
            "Collecting dill<0.3.9,>=0.3.0 (from datasets)\n",
            "  Downloading dill-0.3.8-py3-none-any.whl (116 kB)\n",
            "\u001b[2K     \u001b[90m━━━━━━━━━━━━━━━━━━━━━━━━━━━━━━━━━━━━━━━━\u001b[0m \u001b[32m116.3/116.3 kB\u001b[0m \u001b[31m17.9 MB/s\u001b[0m eta \u001b[36m0:00:00\u001b[0m\n",
            "\u001b[?25hRequirement already satisfied: pandas in /usr/local/lib/python3.10/dist-packages (from datasets) (2.0.3)\n",
            "Collecting requests>=2.32.2 (from datasets)\n",
            "  Downloading requests-2.32.3-py3-none-any.whl (64 kB)\n",
            "\u001b[2K     \u001b[90m━━━━━━━━━━━━━━━━━━━━━━━━━━━━━━━━━━━━━━━━\u001b[0m \u001b[32m64.9/64.9 kB\u001b[0m \u001b[31m9.6 MB/s\u001b[0m eta \u001b[36m0:00:00\u001b[0m\n",
            "\u001b[?25hRequirement already satisfied: tqdm>=4.66.3 in /usr/local/lib/python3.10/dist-packages (from datasets) (4.66.4)\n",
            "Collecting xxhash (from datasets)\n",
            "  Downloading xxhash-3.4.1-cp310-cp310-manylinux_2_17_x86_64.manylinux2014_x86_64.whl (194 kB)\n",
            "\u001b[2K     \u001b[90m━━━━━━━━━━━━━━━━━━━━━━━━━━━━━━━━━━━━━━━━\u001b[0m \u001b[32m194.1/194.1 kB\u001b[0m \u001b[31m21.6 MB/s\u001b[0m eta \u001b[36m0:00:00\u001b[0m\n",
            "\u001b[?25hCollecting multiprocess (from datasets)\n",
            "  Downloading multiprocess-0.70.16-py310-none-any.whl (134 kB)\n",
            "\u001b[2K     \u001b[90m━━━━━━━━━━━━━━━━━━━━━━━━━━━━━━━━━━━━━━━━\u001b[0m \u001b[32m134.8/134.8 kB\u001b[0m \u001b[31m20.0 MB/s\u001b[0m eta \u001b[36m0:00:00\u001b[0m\n",
            "\u001b[?25hRequirement already satisfied: fsspec[http]<=2024.5.0,>=2023.1.0 in /usr/local/lib/python3.10/dist-packages (from datasets) (2023.6.0)\n",
            "Requirement already satisfied: aiohttp in /usr/local/lib/python3.10/dist-packages (from datasets) (3.9.5)\n",
            "Requirement already satisfied: huggingface-hub>=0.21.2 in /usr/local/lib/python3.10/dist-packages (from datasets) (0.23.5)\n",
            "Requirement already satisfied: packaging in /usr/local/lib/python3.10/dist-packages (from datasets) (24.1)\n",
            "Requirement already satisfied: pyyaml>=5.1 in /usr/local/lib/python3.10/dist-packages (from datasets) (6.0.1)\n",
            "Requirement already satisfied: scipy>=1.7.0 in /usr/local/lib/python3.10/dist-packages (from gensim) (1.11.4)\n",
            "Requirement already satisfied: smart-open>=1.8.1 in /usr/local/lib/python3.10/dist-packages (from gensim) (7.0.4)\n",
            "Requirement already satisfied: aiosignal>=1.1.2 in /usr/local/lib/python3.10/dist-packages (from aiohttp->datasets) (1.3.1)\n",
            "Requirement already satisfied: attrs>=17.3.0 in /usr/local/lib/python3.10/dist-packages (from aiohttp->datasets) (23.2.0)\n",
            "Requirement already satisfied: frozenlist>=1.1.1 in /usr/local/lib/python3.10/dist-packages (from aiohttp->datasets) (1.4.1)\n",
            "Requirement already satisfied: multidict<7.0,>=4.5 in /usr/local/lib/python3.10/dist-packages (from aiohttp->datasets) (6.0.5)\n",
            "Requirement already satisfied: yarl<2.0,>=1.0 in /usr/local/lib/python3.10/dist-packages (from aiohttp->datasets) (1.9.4)\n",
            "Requirement already satisfied: async-timeout<5.0,>=4.0 in /usr/local/lib/python3.10/dist-packages (from aiohttp->datasets) (4.0.3)\n",
            "Requirement already satisfied: typing-extensions>=3.7.4.3 in /usr/local/lib/python3.10/dist-packages (from huggingface-hub>=0.21.2->datasets) (4.12.2)\n",
            "Requirement already satisfied: charset-normalizer<4,>=2 in /usr/local/lib/python3.10/dist-packages (from requests>=2.32.2->datasets) (3.3.2)\n",
            "Requirement already satisfied: idna<4,>=2.5 in /usr/local/lib/python3.10/dist-packages (from requests>=2.32.2->datasets) (3.7)\n",
            "Requirement already satisfied: urllib3<3,>=1.21.1 in /usr/local/lib/python3.10/dist-packages (from requests>=2.32.2->datasets) (2.0.7)\n",
            "Requirement already satisfied: certifi>=2017.4.17 in /usr/local/lib/python3.10/dist-packages (from requests>=2.32.2->datasets) (2024.7.4)\n",
            "Requirement already satisfied: wrapt in /usr/local/lib/python3.10/dist-packages (from smart-open>=1.8.1->gensim) (1.14.1)\n",
            "Requirement already satisfied: python-dateutil>=2.8.2 in /usr/local/lib/python3.10/dist-packages (from pandas->datasets) (2.8.2)\n",
            "Requirement already satisfied: pytz>=2020.1 in /usr/local/lib/python3.10/dist-packages (from pandas->datasets) (2023.4)\n",
            "Requirement already satisfied: tzdata>=2022.1 in /usr/local/lib/python3.10/dist-packages (from pandas->datasets) (2024.1)\n",
            "Requirement already satisfied: six>=1.5 in /usr/local/lib/python3.10/dist-packages (from python-dateutil>=2.8.2->pandas->datasets) (1.16.0)\n",
            "Installing collected packages: xxhash, requests, pyarrow, dill, multiprocess, datasets\n",
            "  Attempting uninstall: requests\n",
            "    Found existing installation: requests 2.31.0\n",
            "    Uninstalling requests-2.31.0:\n",
            "      Successfully uninstalled requests-2.31.0\n",
            "  Attempting uninstall: pyarrow\n",
            "    Found existing installation: pyarrow 14.0.2\n",
            "    Uninstalling pyarrow-14.0.2:\n",
            "      Successfully uninstalled pyarrow-14.0.2\n",
            "\u001b[31mERROR: pip's dependency resolver does not currently take into account all the packages that are installed. This behaviour is the source of the following dependency conflicts.\n",
            "cudf-cu12 24.4.1 requires pyarrow<15.0.0a0,>=14.0.1, but you have pyarrow 17.0.0 which is incompatible.\n",
            "google-colab 1.0.0 requires requests==2.31.0, but you have requests 2.32.3 which is incompatible.\n",
            "ibis-framework 8.0.0 requires pyarrow<16,>=2, but you have pyarrow 17.0.0 which is incompatible.\u001b[0m\u001b[31m\n",
            "\u001b[0mSuccessfully installed datasets-2.20.0 dill-0.3.8 multiprocess-0.70.16 pyarrow-17.0.0 requests-2.32.3 xxhash-3.4.1\n"
          ]
        }
      ]
    },
    {
      "cell_type": "markdown",
      "source": [
        "## Importing Libraries and Load a pre-trained Word2Vec model"
      ],
      "metadata": {
        "id": "aOqSMMrPWPn2"
      }
    },
    {
      "cell_type": "code",
      "execution_count": 2,
      "metadata": {
        "id": "ijinqYbTbDv4",
        "colab": {
          "base_uri": "https://localhost:8080/"
        },
        "outputId": "a2744692-7c74-442e-d1b9-bce4537f41a7"
      },
      "outputs": [
        {
          "output_type": "stream",
          "name": "stdout",
          "text": [
            "[==================================================] 100.0% 1662.8/1662.8MB downloaded\n"
          ]
        }
      ],
      "source": [
        "from datasets import load_dataset\n",
        "import nltk\n",
        "import pandas as pd\n",
        "import re\n",
        "from nltk.corpus import stopwords\n",
        "import spacy\n",
        "import numpy as np\n",
        "import string\n",
        "from keras.layers import *\n",
        "from nltk.stem.wordnet import WordNetLemmatizer\n",
        "lemmatizer = WordNetLemmatizer()\n",
        "from sklearn.model_selection import train_test_split\n",
        "from tensorflow.keras.models import Model\n",
        "from keras.models import Sequential\n",
        "import tensorflow as tf\n",
        "from keras.utils import to_categorical\n",
        "from tensorflow.keras.preprocessing.text import Tokenizer\n",
        "from tensorflow.keras.preprocessing.sequence import pad_sequences\n",
        "from sklearn.feature_extraction.text import TfidfVectorizer\n",
        "from sklearn.ensemble import RandomForestClassifier\n",
        "from sklearn.metrics import accuracy_score, classification_report\n",
        "import gensim.downloader as api\n",
        "\n",
        "word2vec_model = api.load(\"word2vec-google-news-300\")"
      ]
    },
    {
      "cell_type": "markdown",
      "source": [
        "## Load Dataset from the Hugging Face Hub"
      ],
      "metadata": {
        "id": "d16CTojCWVMa"
      }
    },
    {
      "cell_type": "code",
      "source": [
        "dataset_name = \"SetFit/tweet_sentiment_extraction\"\n",
        "dataset = load_dataset(dataset_name)"
      ],
      "metadata": {
        "colab": {
          "base_uri": "https://localhost:8080/",
          "height": 336,
          "referenced_widgets": [
            "3c0fe31533e943b08f9c1b04b142aa5a",
            "c239e8b16a0a49c0831396636c788288",
            "9221450dd0e74dd1b6452cd883eb6cf5",
            "5e6f559443d34373959134e8c8d953ce",
            "f9d9d77e55dd462583896b006e2babae",
            "353035d6682e4d26914dc048af6a27bb",
            "0ec7d2ecf1604d249c8020f6284a78fd",
            "2c1b304d3dd2414f98f129c7d40b7299",
            "d4e5acae1996413996e163d4b9c01254",
            "9f9591e8316c4fac88e6af25de931cfe",
            "12d4a1b4a30b48b7b012ba2a3f68c820",
            "9047f023e3e14d08b5d1462431e5fb40",
            "e1ffae0abd7a44529481f2b248118ffa",
            "14b5871be0154860a746622198d0ff83",
            "470b531876a243fa9ae9a4791927eeb2",
            "66bfa7ee4f77436f8a85d6fbbe1c870e",
            "f84bb7d79fdf4afcaf29096b3a0a4a45",
            "cb272053933b4a9d8e528d50e9d67869",
            "6ffe2a8e73034ab5b1875e928857b2eb",
            "35a98b0f37f54268a240bee06c782b44",
            "ff955a01b7934dc5a6351a74b5f3a407",
            "32fdd9f46bd147709e80975372fcbbc8",
            "761c2117cad148cca9608e23ec1003ea",
            "142c337c65b54bd7b6d00eab7ac4e3fd",
            "e02925dadbf14d36bd26665a4113ce1d",
            "eb44d8e75cf449a88175568455b7b6f0",
            "36d07e99687d42829ddec597544bf5ba",
            "fa391a265b024eb79d99361ebce1f3af",
            "fa47cb569023409db5b6e6b2b94442dd",
            "18e46af4135f45c4a4b3035730acf870",
            "1c43c0779f794023b74d8ce3fc79efd7",
            "9762a4e16076464893f2881492a754ee",
            "96867d83479045e79092b55eb446d67f",
            "2ce91e38cbd143718a7bc01bd9d0bcf6",
            "e46de6bf56374c5c945f2926e8578c3d",
            "5b2d13235de445198dd0668b8e397fb7",
            "614634cb4bca400094391faab3acd2da",
            "310803c87a9e4a4587bd01e94faae148",
            "b3552431d09d4f528ac8938c2de2a922",
            "b28679516a634cf788e753950d457ed5",
            "27f0ccfe0c5d49a4bcd3102546abb5cf",
            "a50d64e849a94709bf5180e2a70025fb",
            "8f51fd6723ae4573b669a46648e90ef0",
            "8b023b2ac9764eacbe9d62b610f9ebe5",
            "cfede81cfdfb4c9baba448a474cbcc3a",
            "d5f334e9737f479fbc31b05dc02f0536",
            "615f2c88b60d48e580d178def5a61810",
            "66141f3e395548a6bd9950e63953ce8c",
            "62e457c531724139a61af6d7dd76da9c",
            "46d6aaf7f615400baa99fc54eebbbdb2",
            "6c6cd3b7ab804c90b468c15d1d749eda",
            "1b4a52d746784c1b91e0a29add6c5993",
            "35be1b4c64a04854ac32eb34c2c35825",
            "a5c50168cecd421180219b415817cba9",
            "b0d7c90be1bd45e8907e328a7df24818"
          ]
        },
        "id": "T0WgL6kabv_2",
        "outputId": "691fcef2-dd5c-4f8e-a18e-bb6126d8d4d1"
      },
      "execution_count": 3,
      "outputs": [
        {
          "output_type": "stream",
          "name": "stderr",
          "text": [
            "/usr/local/lib/python3.10/dist-packages/huggingface_hub/utils/_token.py:89: UserWarning: \n",
            "The secret `HF_TOKEN` does not exist in your Colab secrets.\n",
            "To authenticate with the Hugging Face Hub, create a token in your settings tab (https://huggingface.co/settings/tokens), set it as secret in your Google Colab and restart your session.\n",
            "You will be able to reuse this secret in all of your notebooks.\n",
            "Please note that authentication is recommended but still optional to access public models or datasets.\n",
            "  warnings.warn(\n"
          ]
        },
        {
          "output_type": "display_data",
          "data": {
            "text/plain": [
              "Downloading readme:   0%|          | 0.00/94.0 [00:00<?, ?B/s]"
            ],
            "application/vnd.jupyter.widget-view+json": {
              "version_major": 2,
              "version_minor": 0,
              "model_id": "3c0fe31533e943b08f9c1b04b142aa5a"
            }
          },
          "metadata": {}
        },
        {
          "output_type": "stream",
          "name": "stderr",
          "text": [
            "Repo card metadata block was not found. Setting CardData to empty.\n",
            "WARNING:huggingface_hub.repocard:Repo card metadata block was not found. Setting CardData to empty.\n"
          ]
        },
        {
          "output_type": "display_data",
          "data": {
            "text/plain": [
              "Downloading data:   0%|          | 0.00/3.93M [00:00<?, ?B/s]"
            ],
            "application/vnd.jupyter.widget-view+json": {
              "version_major": 2,
              "version_minor": 0,
              "model_id": "9047f023e3e14d08b5d1462431e5fb40"
            }
          },
          "metadata": {}
        },
        {
          "output_type": "display_data",
          "data": {
            "text/plain": [
              "Downloading data:   0%|          | 0.00/503k [00:00<?, ?B/s]"
            ],
            "application/vnd.jupyter.widget-view+json": {
              "version_major": 2,
              "version_minor": 0,
              "model_id": "761c2117cad148cca9608e23ec1003ea"
            }
          },
          "metadata": {}
        },
        {
          "output_type": "display_data",
          "data": {
            "text/plain": [
              "Generating train split:   0%|          | 0/27481 [00:00<?, ? examples/s]"
            ],
            "application/vnd.jupyter.widget-view+json": {
              "version_major": 2,
              "version_minor": 0,
              "model_id": "2ce91e38cbd143718a7bc01bd9d0bcf6"
            }
          },
          "metadata": {}
        },
        {
          "output_type": "display_data",
          "data": {
            "text/plain": [
              "Generating test split:   0%|          | 0/3534 [00:00<?, ? examples/s]"
            ],
            "application/vnd.jupyter.widget-view+json": {
              "version_major": 2,
              "version_minor": 0,
              "model_id": "cfede81cfdfb4c9baba448a474cbcc3a"
            }
          },
          "metadata": {}
        }
      ]
    },
    {
      "cell_type": "markdown",
      "source": [
        "## Dataset Structure\n",
        "\n"
      ],
      "metadata": {
        "id": "ymgGd_boW0Fy"
      }
    },
    {
      "cell_type": "code",
      "source": [
        "dataset"
      ],
      "metadata": {
        "colab": {
          "base_uri": "https://localhost:8080/"
        },
        "id": "dZHWLPS8cJ62",
        "outputId": "0c42602d-02a5-48a1-ec38-23f4c93f060d"
      },
      "execution_count": 4,
      "outputs": [
        {
          "output_type": "execute_result",
          "data": {
            "text/plain": [
              "DatasetDict({\n",
              "    train: Dataset({\n",
              "        features: ['textID', 'text', 'label', 'label_text'],\n",
              "        num_rows: 27481\n",
              "    })\n",
              "    test: Dataset({\n",
              "        features: ['textID', 'text', 'label', 'label_text'],\n",
              "        num_rows: 3534\n",
              "    })\n",
              "})"
            ]
          },
          "metadata": {},
          "execution_count": 4
        }
      ]
    },
    {
      "cell_type": "markdown",
      "source": [
        "## We will use only the following columns:\n",
        "*  text: The content of the text.\n",
        "*  label: The classification label."
      ],
      "metadata": {
        "id": "heUb6HidX9mf"
      }
    },
    {
      "cell_type": "code",
      "source": [
        "x = dataset['train']['text']\n",
        "y = dataset['train']['label']\n",
        "X_test = dataset['test']['text']\n",
        "y_test = dataset['test']['label']"
      ],
      "metadata": {
        "id": "yEMwAIiCdpOg"
      },
      "execution_count": 5,
      "outputs": []
    },
    {
      "cell_type": "markdown",
      "source": [
        "## text data"
      ],
      "metadata": {
        "id": "UXBgJu009t6D"
      }
    },
    {
      "cell_type": "code",
      "source": [
        "x[:4]"
      ],
      "metadata": {
        "colab": {
          "base_uri": "https://localhost:8080/"
        },
        "id": "VI0qZb1fduec",
        "outputId": "c7463c0b-b0d8-4920-faa3-ec66dee51a74"
      },
      "execution_count": 6,
      "outputs": [
        {
          "output_type": "execute_result",
          "data": {
            "text/plain": [
              "[' I`d have responded, if I were going',\n",
              " ' Sooo SAD I will miss you here in San Diego!!!',\n",
              " 'my boss is bullying me...',\n",
              " ' what interview! leave me alone']"
            ]
          },
          "metadata": {},
          "execution_count": 6
        }
      ]
    },
    {
      "cell_type": "markdown",
      "source": [
        "## label"
      ],
      "metadata": {
        "id": "d96sI-939yeo"
      }
    },
    {
      "cell_type": "code",
      "source": [
        "y[:4]"
      ],
      "metadata": {
        "colab": {
          "base_uri": "https://localhost:8080/"
        },
        "id": "OCy-XyYBduYJ",
        "outputId": "9c938d20-5be6-4660-a69d-5c4064b9a511"
      },
      "execution_count": 7,
      "outputs": [
        {
          "output_type": "execute_result",
          "data": {
            "text/plain": [
              "[1, 0, 0, 0]"
            ]
          },
          "metadata": {},
          "execution_count": 7
        }
      ]
    },
    {
      "cell_type": "markdown",
      "source": [
        "## Download Some Packages for Preprocessing"
      ],
      "metadata": {
        "id": "ySU9VPNpYMRO"
      }
    },
    {
      "cell_type": "code",
      "source": [
        "nltk.download('stopwords')\n",
        "nltk.download('wordnet')"
      ],
      "metadata": {
        "colab": {
          "base_uri": "https://localhost:8080/"
        },
        "id": "bZNVVdJfc8m3",
        "outputId": "eff5561f-b4ef-483c-d077-d13b1448a2da"
      },
      "execution_count": 8,
      "outputs": [
        {
          "output_type": "stream",
          "name": "stderr",
          "text": [
            "[nltk_data] Downloading package stopwords to /root/nltk_data...\n",
            "[nltk_data]   Unzipping corpora/stopwords.zip.\n",
            "[nltk_data] Downloading package wordnet to /root/nltk_data...\n"
          ]
        },
        {
          "output_type": "execute_result",
          "data": {
            "text/plain": [
              "True"
            ]
          },
          "metadata": {},
          "execution_count": 8
        }
      ]
    },
    {
      "cell_type": "markdown",
      "source": [
        "## Preprocessing"
      ],
      "metadata": {
        "id": "8ndI1oCSYTDG"
      }
    },
    {
      "cell_type": "code",
      "source": [
        "def textPreprocessing(text):\n",
        "\n",
        "  # Noramlization\n",
        "  text = text.lower()\n",
        "  text = re.sub(r'\\n', '', text) # Remove new lines (\\n)\n",
        "  text = re.sub(r'@\\w+', '', text)\n",
        "  text = re.sub(r'\\r', '', text)\n",
        "  text = re.sub(r'http\\S+', '', text)\n",
        "  # Remove Punctuation\n",
        "  translator = str.maketrans('', '', string.punctuation)\n",
        "  text = text.translate(translator)\n",
        "  # Tokenization\n",
        "  text = text.split()\n",
        "  # Removing Stop Words\n",
        "  useless_words = nltk.corpus.stopwords.words(\"english\")\n",
        "  useless_words = useless_words + ['«', '»','©','@', '#', 'http', 'www', '/']\n",
        "  text = [word for word in text if not word in useless_words]\n",
        "\n",
        "  # # Cleaning\n",
        "  # Removing Numbers and words with Numbers\n",
        "  text_filtered = [re.sub(r'\\w*\\d\\w*', '', w) for w in text]   # Remove words with numbers\n",
        "  text_filtered = [re.sub(r'\\d', '', w) for w in text_filtered] # Remove standalone numbers\n",
        "  text_filtered = [re.sub(r'\\s+[a-zA-Z]\\s+', '', w) for w in text_filtered ]\n",
        "\n",
        "  text_filtered = [lemmatizer.lemmatize(word) for word in text_filtered]  # Lemmatization\n",
        "\n",
        "  # Removing empty strings\n",
        "  text_filtered = [x for x in text_filtered if x != '']\n",
        "  text_lem = list(text_filtered)\n",
        "\n",
        "  return ' '.join(text_lem)"
      ],
      "metadata": {
        "id": "Zps-5VlIcsnG"
      },
      "execution_count": 9,
      "outputs": []
    },
    {
      "cell_type": "markdown",
      "source": [
        "## Apply Preprocessing"
      ],
      "metadata": {
        "id": "_5vV-hOmYdUW"
      }
    },
    {
      "cell_type": "code",
      "source": [
        "Preprocessed_Text=[textPreprocessing(texts) for texts in x]\n",
        "X_test=[textPreprocessing(texts) for texts in X_test]"
      ],
      "metadata": {
        "id": "8y7cNjJ0dPtR"
      },
      "execution_count": 10,
      "outputs": []
    },
    {
      "cell_type": "code",
      "source": [
        "len(Preprocessed_Text)"
      ],
      "metadata": {
        "colab": {
          "base_uri": "https://localhost:8080/"
        },
        "id": "7A2z7aHheH9G",
        "outputId": "5abbc224-1267-4c8c-baff-4e59bdcf91e2"
      },
      "execution_count": 11,
      "outputs": [
        {
          "output_type": "execute_result",
          "data": {
            "text/plain": [
              "27481"
            ]
          },
          "metadata": {},
          "execution_count": 11
        }
      ]
    },
    {
      "cell_type": "markdown",
      "source": [
        "## Data Splitting\n",
        "\n",
        "\n",
        "*   Train\n",
        "*   Test\n",
        "*   Validation\n"
      ],
      "metadata": {
        "id": "aQLdIWYbYjfQ"
      }
    },
    {
      "cell_type": "code",
      "source": [
        "X_train, X_val, y_train, y_val = train_test_split(Preprocessed_Text,y, stratify=y, test_size=0.13,random_state=1)"
      ],
      "metadata": {
        "id": "eUeTgOgKeb93"
      },
      "execution_count": 12,
      "outputs": []
    },
    {
      "cell_type": "code",
      "source": [
        "print(len(X_train))\n",
        "print(len(X_val))\n",
        "print(len(X_test))"
      ],
      "metadata": {
        "colab": {
          "base_uri": "https://localhost:8080/"
        },
        "id": "6tt_ZyHKfc7J",
        "outputId": "3101f65a-eafe-439b-939b-a29fb19013e8"
      },
      "execution_count": 13,
      "outputs": [
        {
          "output_type": "stream",
          "name": "stdout",
          "text": [
            "23908\n",
            "3573\n",
            "3534\n"
          ]
        }
      ]
    },
    {
      "cell_type": "markdown",
      "source": [
        "## convert the data to numbers and put padding to make all have the same size"
      ],
      "metadata": {
        "id": "BrD9bGTXZNJ8"
      }
    },
    {
      "cell_type": "code",
      "source": [
        "tokenizer = Tokenizer()\n",
        "tokenizer.fit_on_texts(X_train)\n",
        "\n",
        "train_sequences = tokenizer.texts_to_sequences(X_train)\n",
        "test_sequences = tokenizer.texts_to_sequences(X_test)\n",
        "val_sequences = tokenizer.texts_to_sequences(X_val)\n",
        "\n",
        "trainx = pad_sequences(train_sequences)\n",
        "testx = pad_sequences(test_sequences,maxlen = trainx.shape[1])\n",
        "valx = pad_sequences(val_sequences,maxlen = trainx.shape[1])"
      ],
      "metadata": {
        "id": "Qmh6Zd9_f8fb"
      },
      "execution_count": 14,
      "outputs": []
    },
    {
      "cell_type": "code",
      "source": [
        "trainx.shape"
      ],
      "metadata": {
        "colab": {
          "base_uri": "https://localhost:8080/"
        },
        "id": "CPW7EfIRvpf1",
        "outputId": "c607a761-225b-41d5-81c9-b6d73c7a51b4"
      },
      "execution_count": 15,
      "outputs": [
        {
          "output_type": "execute_result",
          "data": {
            "text/plain": [
              "(23908, 23)"
            ]
          },
          "metadata": {},
          "execution_count": 15
        }
      ]
    },
    {
      "cell_type": "code",
      "source": [
        "vocab_size = len(tokenizer.word_index) + 1\n",
        "vocab_size"
      ],
      "metadata": {
        "colab": {
          "base_uri": "https://localhost:8080/"
        },
        "id": "FwRDehbygVnF",
        "outputId": "3b7e1f45-3775-44eb-da88-848b5a52cf57"
      },
      "execution_count": 16,
      "outputs": [
        {
          "output_type": "execute_result",
          "data": {
            "text/plain": [
              "22379"
            ]
          },
          "metadata": {},
          "execution_count": 16
        }
      ]
    },
    {
      "cell_type": "code",
      "source": [
        "mx = trainx.shape[1]"
      ],
      "metadata": {
        "id": "RNnccoK194Fo"
      },
      "execution_count": 17,
      "outputs": []
    },
    {
      "cell_type": "code",
      "source": [
        "embedding_dim = 300\n",
        "word_index = tokenizer.word_index\n",
        "embedding_matrix = np.zeros((vocab_size, embedding_dim))\n",
        "\n",
        "for word, i in word_index.items():\n",
        "    try:\n",
        "        embedding_vector = word2vec_model[word]\n",
        "        embedding_matrix[i] = embedding_vector\n",
        "    except KeyError:\n",
        "        # Words not found in the Word2Vec model will be all-zeros\n",
        "        embedding_matrix[i] = np.zeros(embedding_dim)"
      ],
      "metadata": {
        "id": "qqKoP5YMPI5R"
      },
      "execution_count": 18,
      "outputs": []
    },
    {
      "cell_type": "markdown",
      "source": [
        "## These lines convert label vectors for training, testing, and validation into a one-hot encoded format."
      ],
      "metadata": {
        "id": "srVLEUJBaLfo"
      }
    },
    {
      "cell_type": "code",
      "source": [
        "y_train = to_categorical(y_train, num_classes=3)\n",
        "y_test = to_categorical(y_test, num_classes=3)\n",
        "y_val = to_categorical(y_val, num_classes=3)"
      ],
      "metadata": {
        "id": "2rYUZeAti6Qm"
      },
      "execution_count": 19,
      "outputs": []
    },
    {
      "cell_type": "markdown",
      "source": [
        "## Set up EarlyStopping to stop training when validation loss doesn't improve"
      ],
      "metadata": {
        "id": "9QDxSChqZXTb"
      }
    },
    {
      "cell_type": "code",
      "source": [
        "early_stopping = tf.keras.callbacks.EarlyStopping(monitor='val_loss', patience=3, restore_best_weights=True)"
      ],
      "metadata": {
        "id": "CL4RdR_PgwS5"
      },
      "execution_count": 20,
      "outputs": []
    },
    {
      "cell_type": "markdown",
      "source": [
        "## In the following sections, I will employ various techniques, including:\n",
        "\n",
        "\n",
        "*   1D Convolutional Neural Networks (CNN)\n",
        "\n",
        "*   Simple Recurrent Neural Networks (RNN)\n",
        "*   Gated Recurrent Units (GRU)\n",
        "\n",
        "\n",
        "*   Long Short-Term Memory Networks (LSTM)\n",
        "*   Random Forest Classifier\n",
        "\n"
      ],
      "metadata": {
        "id": "xHwUv86pac0K"
      }
    },
    {
      "cell_type": "markdown",
      "source": [
        "## 1D Convolutional Neural Networks (CNN)\n",
        "\n"
      ],
      "metadata": {
        "id": "s0N2c4KbbmCv"
      }
    },
    {
      "cell_type": "code",
      "source": [
        "def cnn11(text,vocab_size,mx):\n",
        "    model=Sequential()\n",
        "    input_shape=Input((mx,))\n",
        "    model=Embedding(vocab_size, embedding_dim, weights=[embedding_matrix], trainable=False)(input_shape)\n",
        "    model=Dropout(0.5)(model)\n",
        "    model= Conv1D(128, 7, activation='relu')(model)\n",
        "    model= Conv1D(128, 7, activation='relu')(model)\n",
        "    model=GlobalMaxPooling1D()(model)\n",
        "    model=Dense(512, activation='relu')(model)\n",
        "    model=Dropout(0.5)(model)\n",
        "    model= Dense(3, activation='softmax')(model)\n",
        "    model = Model(input_shape, model)\n",
        "    print(model.summary())\n",
        "    return model"
      ],
      "metadata": {
        "id": "dnX_qcpSg2Dz"
      },
      "execution_count": 21,
      "outputs": []
    },
    {
      "cell_type": "code",
      "source": [
        "modl=cnn11(trainx,vocab_size,mx)\n",
        "modl.compile(loss='categorical_crossentropy', optimizer='adam', metrics=['accuracy'])\n",
        "modl.fit(trainx, y_train, validation_data=(valx, y_val), batch_size=64, epochs=20 , callbacks=[early_stopping])\n",
        "loss, accuracy = modl.evaluate(testx, y_test)\n",
        "print(\"Test Loss:\", loss)\n",
        "print(\"Test Accuracy:\", accuracy)"
      ],
      "metadata": {
        "colab": {
          "base_uri": "https://localhost:8080/"
        },
        "id": "D30uvJVYhDlD",
        "outputId": "e8829b9c-243d-4653-8970-8dd3ceef4ea5"
      },
      "execution_count": 22,
      "outputs": [
        {
          "output_type": "stream",
          "name": "stdout",
          "text": [
            "Model: \"model\"\n",
            "_________________________________________________________________\n",
            " Layer (type)                Output Shape              Param #   \n",
            "=================================================================\n",
            " input_1 (InputLayer)        [(None, 23)]              0         \n",
            "                                                                 \n",
            " embedding (Embedding)       (None, 23, 300)           6713700   \n",
            "                                                                 \n",
            " dropout (Dropout)           (None, 23, 300)           0         \n",
            "                                                                 \n",
            " conv1d (Conv1D)             (None, 17, 128)           268928    \n",
            "                                                                 \n",
            " conv1d_1 (Conv1D)           (None, 11, 128)           114816    \n",
            "                                                                 \n",
            " global_max_pooling1d (Glob  (None, 128)               0         \n",
            " alMaxPooling1D)                                                 \n",
            "                                                                 \n",
            " dense (Dense)               (None, 512)               66048     \n",
            "                                                                 \n",
            " dropout_1 (Dropout)         (None, 512)               0         \n",
            "                                                                 \n",
            " dense_1 (Dense)             (None, 3)                 1539      \n",
            "                                                                 \n",
            "=================================================================\n",
            "Total params: 7165031 (27.33 MB)\n",
            "Trainable params: 451331 (1.72 MB)\n",
            "Non-trainable params: 6713700 (25.61 MB)\n",
            "_________________________________________________________________\n",
            "None\n",
            "Epoch 1/20\n",
            "374/374 [==============================] - 10s 11ms/step - loss: 0.8578 - accuracy: 0.6070 - val_loss: 0.6890 - val_accuracy: 0.7162\n",
            "Epoch 2/20\n",
            "374/374 [==============================] - 3s 9ms/step - loss: 0.7331 - accuracy: 0.6882 - val_loss: 0.6742 - val_accuracy: 0.7355\n",
            "Epoch 3/20\n",
            "374/374 [==============================] - 2s 6ms/step - loss: 0.7048 - accuracy: 0.7061 - val_loss: 0.6644 - val_accuracy: 0.7313\n",
            "Epoch 4/20\n",
            "374/374 [==============================] - 2s 6ms/step - loss: 0.6818 - accuracy: 0.7186 - val_loss: 0.6696 - val_accuracy: 0.7372\n",
            "Epoch 5/20\n",
            "374/374 [==============================] - 3s 7ms/step - loss: 0.6533 - accuracy: 0.7283 - val_loss: 0.6662 - val_accuracy: 0.7271\n",
            "Epoch 6/20\n",
            "374/374 [==============================] - 3s 9ms/step - loss: 0.6213 - accuracy: 0.7470 - val_loss: 0.6618 - val_accuracy: 0.7386\n",
            "Epoch 7/20\n",
            "374/374 [==============================] - 3s 7ms/step - loss: 0.5962 - accuracy: 0.7560 - val_loss: 0.6715 - val_accuracy: 0.7316\n",
            "Epoch 8/20\n",
            "374/374 [==============================] - 3s 7ms/step - loss: 0.5675 - accuracy: 0.7697 - val_loss: 0.6795 - val_accuracy: 0.7350\n",
            "Epoch 9/20\n",
            "374/374 [==============================] - 3s 7ms/step - loss: 0.5419 - accuracy: 0.7796 - val_loss: 0.6919 - val_accuracy: 0.7355\n",
            "111/111 [==============================] - 1s 5ms/step - loss: 0.6557 - accuracy: 0.7295\n",
            "Test Loss: 0.6556819677352905\n",
            "Test Accuracy: 0.7294849753379822\n"
          ]
        }
      ]
    },
    {
      "cell_type": "markdown",
      "source": [
        "## Simple Recurrent Neural Networks (RNN)"
      ],
      "metadata": {
        "id": "786uujTFf_53"
      }
    },
    {
      "cell_type": "code",
      "source": [
        "def simplernn(text,vocab_size,mx):\n",
        "    input_shape=Input((mx,))\n",
        "    model=Embedding(vocab_size, embedding_dim, weights=[embedding_matrix], trainable=False)(input_shape)\n",
        "    model=Dropout(0.2)(model)\n",
        "    model= SimpleRNN(32, activation='relu', return_sequences=True)(model)\n",
        "    model=GlobalMaxPooling1D()(model)\n",
        "    model= Dense(3, activation='softmax')(model)\n",
        "    model = Model(input_shape, model)\n",
        "    print(model.summary())\n",
        "    return model"
      ],
      "metadata": {
        "id": "a5NhyutUsZv4"
      },
      "execution_count": 23,
      "outputs": []
    },
    {
      "cell_type": "code",
      "source": [
        "modl=simplernn(trainx,vocab_size,mx)\n",
        "modl.compile(loss='categorical_crossentropy', optimizer='adam', metrics=['accuracy'])\n",
        "modl.fit(trainx, y_train, validation_data=(valx, y_val), batch_size=64, epochs=20 , callbacks=[early_stopping])\n",
        "loss, accuracy = modl.evaluate(testx, y_test)\n",
        "print(\"Test Loss:\", loss)\n",
        "print(\"Test Accuracy:\", accuracy)"
      ],
      "metadata": {
        "colab": {
          "base_uri": "https://localhost:8080/"
        },
        "id": "Ha9XN669qy0r",
        "outputId": "c0419b87-5aa3-4c4b-bcda-97e0c0a9afcc"
      },
      "execution_count": 24,
      "outputs": [
        {
          "output_type": "stream",
          "name": "stdout",
          "text": [
            "Model: \"model_1\"\n",
            "_________________________________________________________________\n",
            " Layer (type)                Output Shape              Param #   \n",
            "=================================================================\n",
            " input_2 (InputLayer)        [(None, 23)]              0         \n",
            "                                                                 \n",
            " embedding_1 (Embedding)     (None, 23, 300)           6713700   \n",
            "                                                                 \n",
            " dropout_2 (Dropout)         (None, 23, 300)           0         \n",
            "                                                                 \n",
            " simple_rnn (SimpleRNN)      (None, 23, 32)            10656     \n",
            "                                                                 \n",
            " global_max_pooling1d_1 (Gl  (None, 32)                0         \n",
            " obalMaxPooling1D)                                               \n",
            "                                                                 \n",
            " dense_2 (Dense)             (None, 3)                 99        \n",
            "                                                                 \n",
            "=================================================================\n",
            "Total params: 6724455 (25.65 MB)\n",
            "Trainable params: 10755 (42.01 KB)\n",
            "Non-trainable params: 6713700 (25.61 MB)\n",
            "_________________________________________________________________\n",
            "None\n",
            "Epoch 1/20\n",
            "374/374 [==============================] - 15s 33ms/step - loss: 0.8548 - accuracy: 0.6169 - val_loss: 0.7293 - val_accuracy: 0.7123\n",
            "Epoch 2/20\n",
            "374/374 [==============================] - 13s 35ms/step - loss: 0.7226 - accuracy: 0.7032 - val_loss: 0.6960 - val_accuracy: 0.7224\n",
            "Epoch 3/20\n",
            "374/374 [==============================] - 15s 41ms/step - loss: 0.6938 - accuracy: 0.7154 - val_loss: 0.6861 - val_accuracy: 0.7224\n",
            "Epoch 4/20\n",
            "374/374 [==============================] - 12s 32ms/step - loss: 0.6778 - accuracy: 0.7228 - val_loss: 0.6768 - val_accuracy: 0.7305\n",
            "Epoch 5/20\n",
            "374/374 [==============================] - 12s 32ms/step - loss: 0.6634 - accuracy: 0.7288 - val_loss: 0.6729 - val_accuracy: 0.7358\n",
            "Epoch 6/20\n",
            "374/374 [==============================] - 12s 32ms/step - loss: 0.6513 - accuracy: 0.7330 - val_loss: 0.6736 - val_accuracy: 0.7333\n",
            "Epoch 7/20\n",
            "374/374 [==============================] - 10s 26ms/step - loss: 0.6466 - accuracy: 0.7385 - val_loss: 0.6691 - val_accuracy: 0.7347\n",
            "Epoch 8/20\n",
            "374/374 [==============================] - 11s 31ms/step - loss: 0.6398 - accuracy: 0.7404 - val_loss: 0.6711 - val_accuracy: 0.7344\n",
            "Epoch 9/20\n",
            "374/374 [==============================] - 12s 31ms/step - loss: 0.6286 - accuracy: 0.7433 - val_loss: 0.6702 - val_accuracy: 0.7355\n",
            "Epoch 10/20\n",
            "374/374 [==============================] - 12s 32ms/step - loss: 0.6231 - accuracy: 0.7488 - val_loss: 0.6740 - val_accuracy: 0.7319\n",
            "111/111 [==============================] - 1s 6ms/step - loss: 0.6508 - accuracy: 0.7340\n",
            "Test Loss: 0.6508327722549438\n",
            "Test Accuracy: 0.7340124249458313\n"
          ]
        }
      ]
    },
    {
      "cell_type": "markdown",
      "source": [
        "## Gated Recurrent Units (GRU)"
      ],
      "metadata": {
        "id": "QP9ZYRoIhqbY"
      }
    },
    {
      "cell_type": "code",
      "source": [
        "def GRU_model(text,vocab_size,mx):\n",
        "    input_shape=Input((mx,))\n",
        "    model=Embedding(vocab_size, embedding_dim, weights=[embedding_matrix], trainable=False)(input_shape)\n",
        "    model=Dropout(0.2)(model)\n",
        "    model= GRU(64, activation='relu', return_sequences=True)(model)\n",
        "    model=GlobalMaxPooling1D()(model)\n",
        "    model= Dense(3, activation='softmax')(model)\n",
        "    model = Model(input_shape, model)\n",
        "    print(model.summary())\n",
        "    return model"
      ],
      "metadata": {
        "id": "O6A60oMrzVo9"
      },
      "execution_count": 25,
      "outputs": []
    },
    {
      "cell_type": "code",
      "source": [
        "modl=GRU_model(trainx,vocab_size,mx)\n",
        "modl.compile(loss='categorical_crossentropy', optimizer='adam', metrics=['accuracy'])\n",
        "modl.fit(trainx, y_train, validation_data=(valx, y_val), batch_size=64, epochs=20 , callbacks=[early_stopping])\n",
        "\n",
        "loss, accuracy = modl.evaluate(trainx, y_train)\n",
        "print(\"Train Loss:\", loss)\n",
        "print(\"Train Accuracy:\", accuracy)\n",
        "\n",
        "loss, accuracy = modl.evaluate(testx, y_test)\n",
        "print(\"Test Loss:\", loss)\n",
        "print(\"Test Accuracy:\", accuracy)\n",
        "\n",
        "loss, accuracy = modl.evaluate(valx, y_val)\n",
        "print(\"Validation Loss:\", loss)\n",
        "print(\"Validation Accuracy:\", accuracy)\n"
      ],
      "metadata": {
        "colab": {
          "base_uri": "https://localhost:8080/"
        },
        "id": "ZJQaxne-zdCP",
        "outputId": "e6f4fb39-091c-407a-aebb-aff72396d377"
      },
      "execution_count": 26,
      "outputs": [
        {
          "output_type": "stream",
          "name": "stderr",
          "text": [
            "WARNING:tensorflow:Layer gru will not use cuDNN kernels since it doesn't meet the criteria. It will use a generic GPU kernel as fallback when running on GPU.\n"
          ]
        },
        {
          "output_type": "stream",
          "name": "stdout",
          "text": [
            "Model: \"model_2\"\n",
            "_________________________________________________________________\n",
            " Layer (type)                Output Shape              Param #   \n",
            "=================================================================\n",
            " input_3 (InputLayer)        [(None, 23)]              0         \n",
            "                                                                 \n",
            " embedding_2 (Embedding)     (None, 23, 300)           6713700   \n",
            "                                                                 \n",
            " dropout_3 (Dropout)         (None, 23, 300)           0         \n",
            "                                                                 \n",
            " gru (GRU)                   (None, 23, 64)            70272     \n",
            "                                                                 \n",
            " global_max_pooling1d_2 (Gl  (None, 64)                0         \n",
            " obalMaxPooling1D)                                               \n",
            "                                                                 \n",
            " dense_3 (Dense)             (None, 3)                 195       \n",
            "                                                                 \n",
            "=================================================================\n",
            "Total params: 6784167 (25.88 MB)\n",
            "Trainable params: 70467 (275.26 KB)\n",
            "Non-trainable params: 6713700 (25.61 MB)\n",
            "_________________________________________________________________\n",
            "None\n",
            "Epoch 1/20\n",
            "374/374 [==============================] - 32s 77ms/step - loss: 0.7970 - accuracy: 0.6607 - val_loss: 0.6929 - val_accuracy: 0.7221\n",
            "Epoch 2/20\n",
            "374/374 [==============================] - 22s 60ms/step - loss: 0.6874 - accuracy: 0.7185 - val_loss: 0.6694 - val_accuracy: 0.7341\n",
            "Epoch 3/20\n",
            "374/374 [==============================] - 21s 57ms/step - loss: 0.6602 - accuracy: 0.7311 - val_loss: 0.6575 - val_accuracy: 0.7344\n",
            "Epoch 4/20\n",
            "374/374 [==============================] - 22s 60ms/step - loss: 0.6430 - accuracy: 0.7417 - val_loss: 0.6513 - val_accuracy: 0.7394\n",
            "Epoch 5/20\n",
            "374/374 [==============================] - 19s 50ms/step - loss: 0.6295 - accuracy: 0.7463 - val_loss: 0.6507 - val_accuracy: 0.7420\n",
            "Epoch 6/20\n",
            "374/374 [==============================] - 17s 47ms/step - loss: 0.6113 - accuracy: 0.7535 - val_loss: 0.6466 - val_accuracy: 0.7425\n",
            "Epoch 7/20\n",
            "374/374 [==============================] - 18s 49ms/step - loss: 0.5976 - accuracy: 0.7577 - val_loss: 0.6502 - val_accuracy: 0.7394\n",
            "Epoch 8/20\n",
            "374/374 [==============================] - 17s 44ms/step - loss: 0.5823 - accuracy: 0.7633 - val_loss: 0.6515 - val_accuracy: 0.7442\n",
            "Epoch 9/20\n",
            "374/374 [==============================] - 17s 46ms/step - loss: 0.5727 - accuracy: 0.7698 - val_loss: 0.6657 - val_accuracy: 0.7358\n",
            "748/748 [==============================] - 5s 7ms/step - loss: 0.5580 - accuracy: 0.7788\n",
            "Train Loss: 0.5580329895019531\n",
            "Train Accuracy: 0.778777003288269\n",
            "111/111 [==============================] - 1s 7ms/step - loss: 0.6261 - accuracy: 0.7465\n",
            "Test Loss: 0.6261452436447144\n",
            "Test Accuracy: 0.7464629411697388\n",
            "112/112 [==============================] - 1s 7ms/step - loss: 0.6466 - accuracy: 0.7425\n",
            "Validation Loss: 0.6466084718704224\n",
            "Validation Accuracy: 0.7425132989883423\n"
          ]
        }
      ]
    },
    {
      "cell_type": "markdown",
      "source": [
        "## Long Short-Term Memory Networks (LSTM)"
      ],
      "metadata": {
        "id": "6b99Sxs0ibQY"
      }
    },
    {
      "cell_type": "code",
      "source": [
        "def lstm_model(text,vocab_size,mx):\n",
        "    input_shape=Input((mx,))\n",
        "    model=Embedding(vocab_size, embedding_dim, weights=[embedding_matrix], trainable=False)(input_shape)\n",
        "    model=Dropout(0.2)(model)\n",
        "    model= LSTM(64, activation='relu', return_sequences=True)(model)\n",
        "    model=GlobalMaxPooling1D()(model)\n",
        "    model= Dense(3, activation='softmax')(model)\n",
        "    model = Model(input_shape, model)\n",
        "    print(model.summary())\n",
        "    return model"
      ],
      "metadata": {
        "id": "MUMGUbFrvawM"
      },
      "execution_count": 32,
      "outputs": []
    },
    {
      "cell_type": "code",
      "source": [
        "modl=lstm_model(trainx,vocab_size,mx)\n",
        "modl.compile(loss='categorical_crossentropy', optimizer='adam', metrics=['accuracy'])\n",
        "modl.fit(trainx, y_train, validation_data=(valx, y_val), batch_size=64, epochs=20 , callbacks=[early_stopping])\n",
        "\n",
        "loss, accuracy = modl.evaluate(trainx, y_train)\n",
        "print(\"Train Loss:\", loss)\n",
        "print(\"Train Accuracy:\", accuracy)\n",
        "\n",
        "loss, accuracy = modl.evaluate(testx, y_test)\n",
        "print(\"Test Loss:\", loss)\n",
        "print(\"Test Accuracy:\", accuracy)\n",
        "\n",
        "loss, accuracy = modl.evaluate(valx, y_val)\n",
        "print(\"Validation Loss:\", loss)\n",
        "print(\"Validation Accuracy:\", accuracy)\n"
      ],
      "metadata": {
        "colab": {
          "base_uri": "https://localhost:8080/"
        },
        "id": "FM4358pYvwpb",
        "outputId": "4718e20e-97e7-4db3-df31-022640079b0b"
      },
      "execution_count": 33,
      "outputs": [
        {
          "output_type": "stream",
          "name": "stderr",
          "text": [
            "WARNING:tensorflow:Layer lstm_2 will not use cuDNN kernels since it doesn't meet the criteria. It will use a generic GPU kernel as fallback when running on GPU.\n"
          ]
        },
        {
          "output_type": "stream",
          "name": "stdout",
          "text": [
            "Model: \"model_5\"\n",
            "_________________________________________________________________\n",
            " Layer (type)                Output Shape              Param #   \n",
            "=================================================================\n",
            " input_6 (InputLayer)        [(None, 23)]              0         \n",
            "                                                                 \n",
            " embedding_5 (Embedding)     (None, 23, 300)           6713700   \n",
            "                                                                 \n",
            " dropout_6 (Dropout)         (None, 23, 300)           0         \n",
            "                                                                 \n",
            " lstm_2 (LSTM)               (None, 23, 64)            93440     \n",
            "                                                                 \n",
            " global_max_pooling1d_5 (Gl  (None, 64)                0         \n",
            " obalMaxPooling1D)                                               \n",
            "                                                                 \n",
            " dense_6 (Dense)             (None, 3)                 195       \n",
            "                                                                 \n",
            "=================================================================\n",
            "Total params: 6807335 (25.97 MB)\n",
            "Trainable params: 93635 (365.76 KB)\n",
            "Non-trainable params: 6713700 (25.61 MB)\n",
            "_________________________________________________________________\n",
            "None\n",
            "Epoch 1/20\n",
            "374/374 [==============================] - 20s 47ms/step - loss: 0.8021 - accuracy: 0.6651 - val_loss: 0.6882 - val_accuracy: 0.7215\n",
            "Epoch 2/20\n",
            "374/374 [==============================] - 14s 37ms/step - loss: 0.6874 - accuracy: 0.7201 - val_loss: 0.6711 - val_accuracy: 0.7366\n",
            "Epoch 3/20\n",
            "374/374 [==============================] - 15s 40ms/step - loss: 0.6629 - accuracy: 0.7293 - val_loss: 0.6688 - val_accuracy: 0.7364\n",
            "Epoch 4/20\n",
            "374/374 [==============================] - 13s 36ms/step - loss: 0.6376 - accuracy: 0.7396 - val_loss: 0.6583 - val_accuracy: 0.7414\n",
            "Epoch 5/20\n",
            "374/374 [==============================] - 14s 38ms/step - loss: 0.6249 - accuracy: 0.7477 - val_loss: 0.6538 - val_accuracy: 0.7406\n",
            "Epoch 6/20\n",
            "374/374 [==============================] - 14s 37ms/step - loss: 0.6084 - accuracy: 0.7527 - val_loss: 0.6898 - val_accuracy: 0.7372\n",
            "Epoch 7/20\n",
            "374/374 [==============================] - 14s 38ms/step - loss: 0.5955 - accuracy: 0.7587 - val_loss: 0.6534 - val_accuracy: 0.7403\n",
            "Epoch 8/20\n",
            "374/374 [==============================] - 18s 48ms/step - loss: 0.5810 - accuracy: 0.7655 - val_loss: 0.6689 - val_accuracy: 0.7369\n",
            "Epoch 9/20\n",
            "374/374 [==============================] - 15s 39ms/step - loss: 0.5686 - accuracy: 0.7697 - val_loss: 0.6485 - val_accuracy: 0.7425\n",
            "Epoch 10/20\n",
            "374/374 [==============================] - 15s 39ms/step - loss: 0.5526 - accuracy: 0.7786 - val_loss: 0.6700 - val_accuracy: 0.7372\n",
            "Epoch 11/20\n",
            "374/374 [==============================] - 14s 38ms/step - loss: 0.5425 - accuracy: 0.7792 - val_loss: 0.6743 - val_accuracy: 0.7350\n",
            "Epoch 12/20\n",
            "374/374 [==============================] - 14s 38ms/step - loss: 0.5283 - accuracy: 0.7884 - val_loss: 0.6835 - val_accuracy: 0.7327\n",
            "748/748 [==============================] - 5s 7ms/step - loss: 0.5215 - accuracy: 0.7988\n",
            "Train Loss: 0.5215334892272949\n",
            "Train Accuracy: 0.7987703084945679\n",
            "111/111 [==============================] - 1s 7ms/step - loss: 0.6279 - accuracy: 0.7501\n",
            "Test Loss: 0.6279075145721436\n",
            "Test Accuracy: 0.7501415014266968\n",
            "112/112 [==============================] - 1s 6ms/step - loss: 0.6485 - accuracy: 0.7425\n",
            "Validation Loss: 0.6484917402267456\n",
            "Validation Accuracy: 0.7425132989883423\n"
          ]
        }
      ]
    },
    {
      "cell_type": "markdown",
      "source": [
        "## Random Forest Classifier with TFIDF to convert the text data into a numerical format."
      ],
      "metadata": {
        "id": "s1uYg3KLk-ob"
      }
    },
    {
      "cell_type": "code",
      "source": [
        "X_train1, X_test1, y_train1, y_test1 = train_test_split(Preprocessed_Text,y, stratify=y, test_size=0.2,random_state=0)\n",
        "vectorizer = TfidfVectorizer(max_features=1000)\n",
        "X_train_tfidf = vectorizer.fit_transform(X_train1).toarray()\n",
        "X_test_tfidf = vectorizer.transform(X_test1).toarray()"
      ],
      "metadata": {
        "id": "RzP2m_NvlIOa"
      },
      "execution_count": 36,
      "outputs": []
    },
    {
      "cell_type": "code",
      "source": [
        "rf_classifier = RandomForestClassifier(n_estimators=100, random_state=42)\n",
        "\n",
        "# Train the classifier\n",
        "rf_classifier.fit(X_train_tfidf, y_train1)\n",
        "\n",
        "# Predictions\n",
        "y_pred = rf_classifier.predict(X_test_tfidf)\n",
        "\n",
        "# Evaluate accuracy\n",
        "accuracy = accuracy_score(y_test1, y_pred)\n",
        "print(f'Test Accuracy: {accuracy:.4f}')\n",
        "print(classification_report(y_test1, y_pred))"
      ],
      "metadata": {
        "id": "ZHCTSmvL5VEs",
        "colab": {
          "base_uri": "https://localhost:8080/"
        },
        "outputId": "38cae8fb-ce9f-44d3-dd37-da0421680869"
      },
      "execution_count": 37,
      "outputs": [
        {
          "output_type": "stream",
          "name": "stdout",
          "text": [
            "Test Accuracy: 0.6900\n",
            "              precision    recall  f1-score   support\n",
            "\n",
            "           0       0.69      0.60      0.65      1556\n",
            "           1       0.65      0.70      0.68      2224\n",
            "           2       0.74      0.75      0.74      1717\n",
            "\n",
            "    accuracy                           0.69      5497\n",
            "   macro avg       0.69      0.69      0.69      5497\n",
            "weighted avg       0.69      0.69      0.69      5497\n",
            "\n"
          ]
        }
      ]
    }
  ]
}